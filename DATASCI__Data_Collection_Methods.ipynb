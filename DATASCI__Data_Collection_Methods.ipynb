{
  "nbformat": 4,
  "nbformat_minor": 0,
  "metadata": {
    "colab": {
      "provenance": [],
      "include_colab_link": true
    },
    "kernelspec": {
      "name": "python3",
      "display_name": "Python 3"
    },
    "language_info": {
      "name": "python"
    },
    "widgets": {
      "application/vnd.jupyter.widget-state+json": {
        "3f02924dba6d44fcad78e351b1881129": {
          "model_module": "@jupyter-widgets/controls",
          "model_name": "HBoxModel",
          "model_module_version": "1.5.0",
          "state": {
            "_dom_classes": [],
            "_model_module": "@jupyter-widgets/controls",
            "_model_module_version": "1.5.0",
            "_model_name": "HBoxModel",
            "_view_count": null,
            "_view_module": "@jupyter-widgets/controls",
            "_view_module_version": "1.5.0",
            "_view_name": "HBoxView",
            "box_style": "",
            "children": [
              "IPY_MODEL_0ada614232c245bb801e6257748e48dd",
              "IPY_MODEL_fb46cf5dbf0c4ee787956cacf000c6dc",
              "IPY_MODEL_18325369f2a346a1931719589efd419c"
            ],
            "layout": "IPY_MODEL_4677ca0e6f404c86abd4895607e62eaf"
          }
        },
        "0ada614232c245bb801e6257748e48dd": {
          "model_module": "@jupyter-widgets/controls",
          "model_name": "HTMLModel",
          "model_module_version": "1.5.0",
          "state": {
            "_dom_classes": [],
            "_model_module": "@jupyter-widgets/controls",
            "_model_module_version": "1.5.0",
            "_model_name": "HTMLModel",
            "_view_count": null,
            "_view_module": "@jupyter-widgets/controls",
            "_view_module_version": "1.5.0",
            "_view_name": "HTMLView",
            "description": "",
            "description_tooltip": null,
            "layout": "IPY_MODEL_3e7dbda3f0854e7c8a4c2e080de80fc3",
            "placeholder": "​",
            "style": "IPY_MODEL_a87b0c1c25204f008a796c2bf4e80f22",
            "value": "Summarize dataset: 100%"
          }
        },
        "fb46cf5dbf0c4ee787956cacf000c6dc": {
          "model_module": "@jupyter-widgets/controls",
          "model_name": "FloatProgressModel",
          "model_module_version": "1.5.0",
          "state": {
            "_dom_classes": [],
            "_model_module": "@jupyter-widgets/controls",
            "_model_module_version": "1.5.0",
            "_model_name": "FloatProgressModel",
            "_view_count": null,
            "_view_module": "@jupyter-widgets/controls",
            "_view_module_version": "1.5.0",
            "_view_name": "ProgressView",
            "bar_style": "success",
            "description": "",
            "description_tooltip": null,
            "layout": "IPY_MODEL_d53c9bc83cad4f03adda7bdee7e15d9f",
            "max": 5,
            "min": 0,
            "orientation": "horizontal",
            "style": "IPY_MODEL_1d9694fe14a64e6482e0eff51a644f8d",
            "value": 5
          }
        },
        "18325369f2a346a1931719589efd419c": {
          "model_module": "@jupyter-widgets/controls",
          "model_name": "HTMLModel",
          "model_module_version": "1.5.0",
          "state": {
            "_dom_classes": [],
            "_model_module": "@jupyter-widgets/controls",
            "_model_module_version": "1.5.0",
            "_model_name": "HTMLModel",
            "_view_count": null,
            "_view_module": "@jupyter-widgets/controls",
            "_view_module_version": "1.5.0",
            "_view_name": "HTMLView",
            "description": "",
            "description_tooltip": null,
            "layout": "IPY_MODEL_3b0a0e77f7624119a0d43de9610e8fe6",
            "placeholder": "​",
            "style": "IPY_MODEL_6434da29797d4d279442d10b6807705d",
            "value": " 15/15 [00:01&lt;00:00,  8.12it/s, Completed]"
          }
        },
        "4677ca0e6f404c86abd4895607e62eaf": {
          "model_module": "@jupyter-widgets/base",
          "model_name": "LayoutModel",
          "model_module_version": "1.2.0",
          "state": {
            "_model_module": "@jupyter-widgets/base",
            "_model_module_version": "1.2.0",
            "_model_name": "LayoutModel",
            "_view_count": null,
            "_view_module": "@jupyter-widgets/base",
            "_view_module_version": "1.2.0",
            "_view_name": "LayoutView",
            "align_content": null,
            "align_items": null,
            "align_self": null,
            "border": null,
            "bottom": null,
            "display": null,
            "flex": null,
            "flex_flow": null,
            "grid_area": null,
            "grid_auto_columns": null,
            "grid_auto_flow": null,
            "grid_auto_rows": null,
            "grid_column": null,
            "grid_gap": null,
            "grid_row": null,
            "grid_template_areas": null,
            "grid_template_columns": null,
            "grid_template_rows": null,
            "height": null,
            "justify_content": null,
            "justify_items": null,
            "left": null,
            "margin": null,
            "max_height": null,
            "max_width": null,
            "min_height": null,
            "min_width": null,
            "object_fit": null,
            "object_position": null,
            "order": null,
            "overflow": null,
            "overflow_x": null,
            "overflow_y": null,
            "padding": null,
            "right": null,
            "top": null,
            "visibility": null,
            "width": null
          }
        },
        "3e7dbda3f0854e7c8a4c2e080de80fc3": {
          "model_module": "@jupyter-widgets/base",
          "model_name": "LayoutModel",
          "model_module_version": "1.2.0",
          "state": {
            "_model_module": "@jupyter-widgets/base",
            "_model_module_version": "1.2.0",
            "_model_name": "LayoutModel",
            "_view_count": null,
            "_view_module": "@jupyter-widgets/base",
            "_view_module_version": "1.2.0",
            "_view_name": "LayoutView",
            "align_content": null,
            "align_items": null,
            "align_self": null,
            "border": null,
            "bottom": null,
            "display": null,
            "flex": null,
            "flex_flow": null,
            "grid_area": null,
            "grid_auto_columns": null,
            "grid_auto_flow": null,
            "grid_auto_rows": null,
            "grid_column": null,
            "grid_gap": null,
            "grid_row": null,
            "grid_template_areas": null,
            "grid_template_columns": null,
            "grid_template_rows": null,
            "height": null,
            "justify_content": null,
            "justify_items": null,
            "left": null,
            "margin": null,
            "max_height": null,
            "max_width": null,
            "min_height": null,
            "min_width": null,
            "object_fit": null,
            "object_position": null,
            "order": null,
            "overflow": null,
            "overflow_x": null,
            "overflow_y": null,
            "padding": null,
            "right": null,
            "top": null,
            "visibility": null,
            "width": null
          }
        },
        "a87b0c1c25204f008a796c2bf4e80f22": {
          "model_module": "@jupyter-widgets/controls",
          "model_name": "DescriptionStyleModel",
          "model_module_version": "1.5.0",
          "state": {
            "_model_module": "@jupyter-widgets/controls",
            "_model_module_version": "1.5.0",
            "_model_name": "DescriptionStyleModel",
            "_view_count": null,
            "_view_module": "@jupyter-widgets/base",
            "_view_module_version": "1.2.0",
            "_view_name": "StyleView",
            "description_width": ""
          }
        },
        "d53c9bc83cad4f03adda7bdee7e15d9f": {
          "model_module": "@jupyter-widgets/base",
          "model_name": "LayoutModel",
          "model_module_version": "1.2.0",
          "state": {
            "_model_module": "@jupyter-widgets/base",
            "_model_module_version": "1.2.0",
            "_model_name": "LayoutModel",
            "_view_count": null,
            "_view_module": "@jupyter-widgets/base",
            "_view_module_version": "1.2.0",
            "_view_name": "LayoutView",
            "align_content": null,
            "align_items": null,
            "align_self": null,
            "border": null,
            "bottom": null,
            "display": null,
            "flex": null,
            "flex_flow": null,
            "grid_area": null,
            "grid_auto_columns": null,
            "grid_auto_flow": null,
            "grid_auto_rows": null,
            "grid_column": null,
            "grid_gap": null,
            "grid_row": null,
            "grid_template_areas": null,
            "grid_template_columns": null,
            "grid_template_rows": null,
            "height": null,
            "justify_content": null,
            "justify_items": null,
            "left": null,
            "margin": null,
            "max_height": null,
            "max_width": null,
            "min_height": null,
            "min_width": null,
            "object_fit": null,
            "object_position": null,
            "order": null,
            "overflow": null,
            "overflow_x": null,
            "overflow_y": null,
            "padding": null,
            "right": null,
            "top": null,
            "visibility": null,
            "width": null
          }
        },
        "1d9694fe14a64e6482e0eff51a644f8d": {
          "model_module": "@jupyter-widgets/controls",
          "model_name": "ProgressStyleModel",
          "model_module_version": "1.5.0",
          "state": {
            "_model_module": "@jupyter-widgets/controls",
            "_model_module_version": "1.5.0",
            "_model_name": "ProgressStyleModel",
            "_view_count": null,
            "_view_module": "@jupyter-widgets/base",
            "_view_module_version": "1.2.0",
            "_view_name": "StyleView",
            "bar_color": null,
            "description_width": ""
          }
        },
        "3b0a0e77f7624119a0d43de9610e8fe6": {
          "model_module": "@jupyter-widgets/base",
          "model_name": "LayoutModel",
          "model_module_version": "1.2.0",
          "state": {
            "_model_module": "@jupyter-widgets/base",
            "_model_module_version": "1.2.0",
            "_model_name": "LayoutModel",
            "_view_count": null,
            "_view_module": "@jupyter-widgets/base",
            "_view_module_version": "1.2.0",
            "_view_name": "LayoutView",
            "align_content": null,
            "align_items": null,
            "align_self": null,
            "border": null,
            "bottom": null,
            "display": null,
            "flex": null,
            "flex_flow": null,
            "grid_area": null,
            "grid_auto_columns": null,
            "grid_auto_flow": null,
            "grid_auto_rows": null,
            "grid_column": null,
            "grid_gap": null,
            "grid_row": null,
            "grid_template_areas": null,
            "grid_template_columns": null,
            "grid_template_rows": null,
            "height": null,
            "justify_content": null,
            "justify_items": null,
            "left": null,
            "margin": null,
            "max_height": null,
            "max_width": null,
            "min_height": null,
            "min_width": null,
            "object_fit": null,
            "object_position": null,
            "order": null,
            "overflow": null,
            "overflow_x": null,
            "overflow_y": null,
            "padding": null,
            "right": null,
            "top": null,
            "visibility": null,
            "width": null
          }
        },
        "6434da29797d4d279442d10b6807705d": {
          "model_module": "@jupyter-widgets/controls",
          "model_name": "DescriptionStyleModel",
          "model_module_version": "1.5.0",
          "state": {
            "_model_module": "@jupyter-widgets/controls",
            "_model_module_version": "1.5.0",
            "_model_name": "DescriptionStyleModel",
            "_view_count": null,
            "_view_module": "@jupyter-widgets/base",
            "_view_module_version": "1.2.0",
            "_view_name": "StyleView",
            "description_width": ""
          }
        },
        "f6f5acb02050422a96c6b7b7e21d83c7": {
          "model_module": "@jupyter-widgets/controls",
          "model_name": "HBoxModel",
          "model_module_version": "1.5.0",
          "state": {
            "_dom_classes": [],
            "_model_module": "@jupyter-widgets/controls",
            "_model_module_version": "1.5.0",
            "_model_name": "HBoxModel",
            "_view_count": null,
            "_view_module": "@jupyter-widgets/controls",
            "_view_module_version": "1.5.0",
            "_view_name": "HBoxView",
            "box_style": "",
            "children": [
              "IPY_MODEL_9de9d134dff24f49a37818a02d23665d",
              "IPY_MODEL_75a1f451416f4c99aef5ca2b5587636a",
              "IPY_MODEL_3a2f8f9318684454a56158ddd2486c80"
            ],
            "layout": "IPY_MODEL_eef7cba5277148bda077cf8559fe2288"
          }
        },
        "9de9d134dff24f49a37818a02d23665d": {
          "model_module": "@jupyter-widgets/controls",
          "model_name": "HTMLModel",
          "model_module_version": "1.5.0",
          "state": {
            "_dom_classes": [],
            "_model_module": "@jupyter-widgets/controls",
            "_model_module_version": "1.5.0",
            "_model_name": "HTMLModel",
            "_view_count": null,
            "_view_module": "@jupyter-widgets/controls",
            "_view_module_version": "1.5.0",
            "_view_name": "HTMLView",
            "description": "",
            "description_tooltip": null,
            "layout": "IPY_MODEL_bd82c50d44d14eeb8a4f90c6fca3a180",
            "placeholder": "​",
            "style": "IPY_MODEL_12371ea0d2754a8abee957297f920ef2",
            "value": "Generate report structure: 100%"
          }
        },
        "75a1f451416f4c99aef5ca2b5587636a": {
          "model_module": "@jupyter-widgets/controls",
          "model_name": "FloatProgressModel",
          "model_module_version": "1.5.0",
          "state": {
            "_dom_classes": [],
            "_model_module": "@jupyter-widgets/controls",
            "_model_module_version": "1.5.0",
            "_model_name": "FloatProgressModel",
            "_view_count": null,
            "_view_module": "@jupyter-widgets/controls",
            "_view_module_version": "1.5.0",
            "_view_name": "ProgressView",
            "bar_style": "success",
            "description": "",
            "description_tooltip": null,
            "layout": "IPY_MODEL_573f2f02b61646d2b7d036c8657097df",
            "max": 1,
            "min": 0,
            "orientation": "horizontal",
            "style": "IPY_MODEL_5e1e501d42734dd1a1e462cd9647c05d",
            "value": 1
          }
        },
        "3a2f8f9318684454a56158ddd2486c80": {
          "model_module": "@jupyter-widgets/controls",
          "model_name": "HTMLModel",
          "model_module_version": "1.5.0",
          "state": {
            "_dom_classes": [],
            "_model_module": "@jupyter-widgets/controls",
            "_model_module_version": "1.5.0",
            "_model_name": "HTMLModel",
            "_view_count": null,
            "_view_module": "@jupyter-widgets/controls",
            "_view_module_version": "1.5.0",
            "_view_name": "HTMLView",
            "description": "",
            "description_tooltip": null,
            "layout": "IPY_MODEL_20e1677fe6724232a49f2ca5fa054486",
            "placeholder": "​",
            "style": "IPY_MODEL_8fec430a12a642b1806f74e11f52df55",
            "value": " 1/1 [00:03&lt;00:00,  3.28s/it]"
          }
        },
        "eef7cba5277148bda077cf8559fe2288": {
          "model_module": "@jupyter-widgets/base",
          "model_name": "LayoutModel",
          "model_module_version": "1.2.0",
          "state": {
            "_model_module": "@jupyter-widgets/base",
            "_model_module_version": "1.2.0",
            "_model_name": "LayoutModel",
            "_view_count": null,
            "_view_module": "@jupyter-widgets/base",
            "_view_module_version": "1.2.0",
            "_view_name": "LayoutView",
            "align_content": null,
            "align_items": null,
            "align_self": null,
            "border": null,
            "bottom": null,
            "display": null,
            "flex": null,
            "flex_flow": null,
            "grid_area": null,
            "grid_auto_columns": null,
            "grid_auto_flow": null,
            "grid_auto_rows": null,
            "grid_column": null,
            "grid_gap": null,
            "grid_row": null,
            "grid_template_areas": null,
            "grid_template_columns": null,
            "grid_template_rows": null,
            "height": null,
            "justify_content": null,
            "justify_items": null,
            "left": null,
            "margin": null,
            "max_height": null,
            "max_width": null,
            "min_height": null,
            "min_width": null,
            "object_fit": null,
            "object_position": null,
            "order": null,
            "overflow": null,
            "overflow_x": null,
            "overflow_y": null,
            "padding": null,
            "right": null,
            "top": null,
            "visibility": null,
            "width": null
          }
        },
        "bd82c50d44d14eeb8a4f90c6fca3a180": {
          "model_module": "@jupyter-widgets/base",
          "model_name": "LayoutModel",
          "model_module_version": "1.2.0",
          "state": {
            "_model_module": "@jupyter-widgets/base",
            "_model_module_version": "1.2.0",
            "_model_name": "LayoutModel",
            "_view_count": null,
            "_view_module": "@jupyter-widgets/base",
            "_view_module_version": "1.2.0",
            "_view_name": "LayoutView",
            "align_content": null,
            "align_items": null,
            "align_self": null,
            "border": null,
            "bottom": null,
            "display": null,
            "flex": null,
            "flex_flow": null,
            "grid_area": null,
            "grid_auto_columns": null,
            "grid_auto_flow": null,
            "grid_auto_rows": null,
            "grid_column": null,
            "grid_gap": null,
            "grid_row": null,
            "grid_template_areas": null,
            "grid_template_columns": null,
            "grid_template_rows": null,
            "height": null,
            "justify_content": null,
            "justify_items": null,
            "left": null,
            "margin": null,
            "max_height": null,
            "max_width": null,
            "min_height": null,
            "min_width": null,
            "object_fit": null,
            "object_position": null,
            "order": null,
            "overflow": null,
            "overflow_x": null,
            "overflow_y": null,
            "padding": null,
            "right": null,
            "top": null,
            "visibility": null,
            "width": null
          }
        },
        "12371ea0d2754a8abee957297f920ef2": {
          "model_module": "@jupyter-widgets/controls",
          "model_name": "DescriptionStyleModel",
          "model_module_version": "1.5.0",
          "state": {
            "_model_module": "@jupyter-widgets/controls",
            "_model_module_version": "1.5.0",
            "_model_name": "DescriptionStyleModel",
            "_view_count": null,
            "_view_module": "@jupyter-widgets/base",
            "_view_module_version": "1.2.0",
            "_view_name": "StyleView",
            "description_width": ""
          }
        },
        "573f2f02b61646d2b7d036c8657097df": {
          "model_module": "@jupyter-widgets/base",
          "model_name": "LayoutModel",
          "model_module_version": "1.2.0",
          "state": {
            "_model_module": "@jupyter-widgets/base",
            "_model_module_version": "1.2.0",
            "_model_name": "LayoutModel",
            "_view_count": null,
            "_view_module": "@jupyter-widgets/base",
            "_view_module_version": "1.2.0",
            "_view_name": "LayoutView",
            "align_content": null,
            "align_items": null,
            "align_self": null,
            "border": null,
            "bottom": null,
            "display": null,
            "flex": null,
            "flex_flow": null,
            "grid_area": null,
            "grid_auto_columns": null,
            "grid_auto_flow": null,
            "grid_auto_rows": null,
            "grid_column": null,
            "grid_gap": null,
            "grid_row": null,
            "grid_template_areas": null,
            "grid_template_columns": null,
            "grid_template_rows": null,
            "height": null,
            "justify_content": null,
            "justify_items": null,
            "left": null,
            "margin": null,
            "max_height": null,
            "max_width": null,
            "min_height": null,
            "min_width": null,
            "object_fit": null,
            "object_position": null,
            "order": null,
            "overflow": null,
            "overflow_x": null,
            "overflow_y": null,
            "padding": null,
            "right": null,
            "top": null,
            "visibility": null,
            "width": null
          }
        },
        "5e1e501d42734dd1a1e462cd9647c05d": {
          "model_module": "@jupyter-widgets/controls",
          "model_name": "ProgressStyleModel",
          "model_module_version": "1.5.0",
          "state": {
            "_model_module": "@jupyter-widgets/controls",
            "_model_module_version": "1.5.0",
            "_model_name": "ProgressStyleModel",
            "_view_count": null,
            "_view_module": "@jupyter-widgets/base",
            "_view_module_version": "1.2.0",
            "_view_name": "StyleView",
            "bar_color": null,
            "description_width": ""
          }
        },
        "20e1677fe6724232a49f2ca5fa054486": {
          "model_module": "@jupyter-widgets/base",
          "model_name": "LayoutModel",
          "model_module_version": "1.2.0",
          "state": {
            "_model_module": "@jupyter-widgets/base",
            "_model_module_version": "1.2.0",
            "_model_name": "LayoutModel",
            "_view_count": null,
            "_view_module": "@jupyter-widgets/base",
            "_view_module_version": "1.2.0",
            "_view_name": "LayoutView",
            "align_content": null,
            "align_items": null,
            "align_self": null,
            "border": null,
            "bottom": null,
            "display": null,
            "flex": null,
            "flex_flow": null,
            "grid_area": null,
            "grid_auto_columns": null,
            "grid_auto_flow": null,
            "grid_auto_rows": null,
            "grid_column": null,
            "grid_gap": null,
            "grid_row": null,
            "grid_template_areas": null,
            "grid_template_columns": null,
            "grid_template_rows": null,
            "height": null,
            "justify_content": null,
            "justify_items": null,
            "left": null,
            "margin": null,
            "max_height": null,
            "max_width": null,
            "min_height": null,
            "min_width": null,
            "object_fit": null,
            "object_position": null,
            "order": null,
            "overflow": null,
            "overflow_x": null,
            "overflow_y": null,
            "padding": null,
            "right": null,
            "top": null,
            "visibility": null,
            "width": null
          }
        },
        "8fec430a12a642b1806f74e11f52df55": {
          "model_module": "@jupyter-widgets/controls",
          "model_name": "DescriptionStyleModel",
          "model_module_version": "1.5.0",
          "state": {
            "_model_module": "@jupyter-widgets/controls",
            "_model_module_version": "1.5.0",
            "_model_name": "DescriptionStyleModel",
            "_view_count": null,
            "_view_module": "@jupyter-widgets/base",
            "_view_module_version": "1.2.0",
            "_view_name": "StyleView",
            "description_width": ""
          }
        },
        "94a70de990c3442ca6ad65e39bb2929e": {
          "model_module": "@jupyter-widgets/controls",
          "model_name": "HBoxModel",
          "model_module_version": "1.5.0",
          "state": {
            "_dom_classes": [],
            "_model_module": "@jupyter-widgets/controls",
            "_model_module_version": "1.5.0",
            "_model_name": "HBoxModel",
            "_view_count": null,
            "_view_module": "@jupyter-widgets/controls",
            "_view_module_version": "1.5.0",
            "_view_name": "HBoxView",
            "box_style": "",
            "children": [
              "IPY_MODEL_c0aee375d6d3463fbca63721f72ee6be",
              "IPY_MODEL_a3cee1fb129c45f6846d87576343d187",
              "IPY_MODEL_bc00f043118c4901b08d4552ba2fa8a8"
            ],
            "layout": "IPY_MODEL_37b91909f44240d39c9c3e7f0427e0d9"
          }
        },
        "c0aee375d6d3463fbca63721f72ee6be": {
          "model_module": "@jupyter-widgets/controls",
          "model_name": "HTMLModel",
          "model_module_version": "1.5.0",
          "state": {
            "_dom_classes": [],
            "_model_module": "@jupyter-widgets/controls",
            "_model_module_version": "1.5.0",
            "_model_name": "HTMLModel",
            "_view_count": null,
            "_view_module": "@jupyter-widgets/controls",
            "_view_module_version": "1.5.0",
            "_view_name": "HTMLView",
            "description": "",
            "description_tooltip": null,
            "layout": "IPY_MODEL_3326e89b1c6c4e7cbcfe0aec50334aa5",
            "placeholder": "​",
            "style": "IPY_MODEL_73e46676168c42c69d05e4efc743e831",
            "value": "Render HTML: 100%"
          }
        },
        "a3cee1fb129c45f6846d87576343d187": {
          "model_module": "@jupyter-widgets/controls",
          "model_name": "FloatProgressModel",
          "model_module_version": "1.5.0",
          "state": {
            "_dom_classes": [],
            "_model_module": "@jupyter-widgets/controls",
            "_model_module_version": "1.5.0",
            "_model_name": "FloatProgressModel",
            "_view_count": null,
            "_view_module": "@jupyter-widgets/controls",
            "_view_module_version": "1.5.0",
            "_view_name": "ProgressView",
            "bar_style": "success",
            "description": "",
            "description_tooltip": null,
            "layout": "IPY_MODEL_4658f56f8fbc4711a6d9e1218a4fca71",
            "max": 1,
            "min": 0,
            "orientation": "horizontal",
            "style": "IPY_MODEL_e05c793dc27848bd885efe19725cc2d6",
            "value": 1
          }
        },
        "bc00f043118c4901b08d4552ba2fa8a8": {
          "model_module": "@jupyter-widgets/controls",
          "model_name": "HTMLModel",
          "model_module_version": "1.5.0",
          "state": {
            "_dom_classes": [],
            "_model_module": "@jupyter-widgets/controls",
            "_model_module_version": "1.5.0",
            "_model_name": "HTMLModel",
            "_view_count": null,
            "_view_module": "@jupyter-widgets/controls",
            "_view_module_version": "1.5.0",
            "_view_name": "HTMLView",
            "description": "",
            "description_tooltip": null,
            "layout": "IPY_MODEL_2e70d1b321424e62ae98cc69d4ef8527",
            "placeholder": "​",
            "style": "IPY_MODEL_38a51ff6748340f7ae7054b22cb71e94",
            "value": " 1/1 [00:00&lt;00:00,  1.63it/s]"
          }
        },
        "37b91909f44240d39c9c3e7f0427e0d9": {
          "model_module": "@jupyter-widgets/base",
          "model_name": "LayoutModel",
          "model_module_version": "1.2.0",
          "state": {
            "_model_module": "@jupyter-widgets/base",
            "_model_module_version": "1.2.0",
            "_model_name": "LayoutModel",
            "_view_count": null,
            "_view_module": "@jupyter-widgets/base",
            "_view_module_version": "1.2.0",
            "_view_name": "LayoutView",
            "align_content": null,
            "align_items": null,
            "align_self": null,
            "border": null,
            "bottom": null,
            "display": null,
            "flex": null,
            "flex_flow": null,
            "grid_area": null,
            "grid_auto_columns": null,
            "grid_auto_flow": null,
            "grid_auto_rows": null,
            "grid_column": null,
            "grid_gap": null,
            "grid_row": null,
            "grid_template_areas": null,
            "grid_template_columns": null,
            "grid_template_rows": null,
            "height": null,
            "justify_content": null,
            "justify_items": null,
            "left": null,
            "margin": null,
            "max_height": null,
            "max_width": null,
            "min_height": null,
            "min_width": null,
            "object_fit": null,
            "object_position": null,
            "order": null,
            "overflow": null,
            "overflow_x": null,
            "overflow_y": null,
            "padding": null,
            "right": null,
            "top": null,
            "visibility": null,
            "width": null
          }
        },
        "3326e89b1c6c4e7cbcfe0aec50334aa5": {
          "model_module": "@jupyter-widgets/base",
          "model_name": "LayoutModel",
          "model_module_version": "1.2.0",
          "state": {
            "_model_module": "@jupyter-widgets/base",
            "_model_module_version": "1.2.0",
            "_model_name": "LayoutModel",
            "_view_count": null,
            "_view_module": "@jupyter-widgets/base",
            "_view_module_version": "1.2.0",
            "_view_name": "LayoutView",
            "align_content": null,
            "align_items": null,
            "align_self": null,
            "border": null,
            "bottom": null,
            "display": null,
            "flex": null,
            "flex_flow": null,
            "grid_area": null,
            "grid_auto_columns": null,
            "grid_auto_flow": null,
            "grid_auto_rows": null,
            "grid_column": null,
            "grid_gap": null,
            "grid_row": null,
            "grid_template_areas": null,
            "grid_template_columns": null,
            "grid_template_rows": null,
            "height": null,
            "justify_content": null,
            "justify_items": null,
            "left": null,
            "margin": null,
            "max_height": null,
            "max_width": null,
            "min_height": null,
            "min_width": null,
            "object_fit": null,
            "object_position": null,
            "order": null,
            "overflow": null,
            "overflow_x": null,
            "overflow_y": null,
            "padding": null,
            "right": null,
            "top": null,
            "visibility": null,
            "width": null
          }
        },
        "73e46676168c42c69d05e4efc743e831": {
          "model_module": "@jupyter-widgets/controls",
          "model_name": "DescriptionStyleModel",
          "model_module_version": "1.5.0",
          "state": {
            "_model_module": "@jupyter-widgets/controls",
            "_model_module_version": "1.5.0",
            "_model_name": "DescriptionStyleModel",
            "_view_count": null,
            "_view_module": "@jupyter-widgets/base",
            "_view_module_version": "1.2.0",
            "_view_name": "StyleView",
            "description_width": ""
          }
        },
        "4658f56f8fbc4711a6d9e1218a4fca71": {
          "model_module": "@jupyter-widgets/base",
          "model_name": "LayoutModel",
          "model_module_version": "1.2.0",
          "state": {
            "_model_module": "@jupyter-widgets/base",
            "_model_module_version": "1.2.0",
            "_model_name": "LayoutModel",
            "_view_count": null,
            "_view_module": "@jupyter-widgets/base",
            "_view_module_version": "1.2.0",
            "_view_name": "LayoutView",
            "align_content": null,
            "align_items": null,
            "align_self": null,
            "border": null,
            "bottom": null,
            "display": null,
            "flex": null,
            "flex_flow": null,
            "grid_area": null,
            "grid_auto_columns": null,
            "grid_auto_flow": null,
            "grid_auto_rows": null,
            "grid_column": null,
            "grid_gap": null,
            "grid_row": null,
            "grid_template_areas": null,
            "grid_template_columns": null,
            "grid_template_rows": null,
            "height": null,
            "justify_content": null,
            "justify_items": null,
            "left": null,
            "margin": null,
            "max_height": null,
            "max_width": null,
            "min_height": null,
            "min_width": null,
            "object_fit": null,
            "object_position": null,
            "order": null,
            "overflow": null,
            "overflow_x": null,
            "overflow_y": null,
            "padding": null,
            "right": null,
            "top": null,
            "visibility": null,
            "width": null
          }
        },
        "e05c793dc27848bd885efe19725cc2d6": {
          "model_module": "@jupyter-widgets/controls",
          "model_name": "ProgressStyleModel",
          "model_module_version": "1.5.0",
          "state": {
            "_model_module": "@jupyter-widgets/controls",
            "_model_module_version": "1.5.0",
            "_model_name": "ProgressStyleModel",
            "_view_count": null,
            "_view_module": "@jupyter-widgets/base",
            "_view_module_version": "1.2.0",
            "_view_name": "StyleView",
            "bar_color": null,
            "description_width": ""
          }
        },
        "2e70d1b321424e62ae98cc69d4ef8527": {
          "model_module": "@jupyter-widgets/base",
          "model_name": "LayoutModel",
          "model_module_version": "1.2.0",
          "state": {
            "_model_module": "@jupyter-widgets/base",
            "_model_module_version": "1.2.0",
            "_model_name": "LayoutModel",
            "_view_count": null,
            "_view_module": "@jupyter-widgets/base",
            "_view_module_version": "1.2.0",
            "_view_name": "LayoutView",
            "align_content": null,
            "align_items": null,
            "align_self": null,
            "border": null,
            "bottom": null,
            "display": null,
            "flex": null,
            "flex_flow": null,
            "grid_area": null,
            "grid_auto_columns": null,
            "grid_auto_flow": null,
            "grid_auto_rows": null,
            "grid_column": null,
            "grid_gap": null,
            "grid_row": null,
            "grid_template_areas": null,
            "grid_template_columns": null,
            "grid_template_rows": null,
            "height": null,
            "justify_content": null,
            "justify_items": null,
            "left": null,
            "margin": null,
            "max_height": null,
            "max_width": null,
            "min_height": null,
            "min_width": null,
            "object_fit": null,
            "object_position": null,
            "order": null,
            "overflow": null,
            "overflow_x": null,
            "overflow_y": null,
            "padding": null,
            "right": null,
            "top": null,
            "visibility": null,
            "width": null
          }
        },
        "38a51ff6748340f7ae7054b22cb71e94": {
          "model_module": "@jupyter-widgets/controls",
          "model_name": "DescriptionStyleModel",
          "model_module_version": "1.5.0",
          "state": {
            "_model_module": "@jupyter-widgets/controls",
            "_model_module_version": "1.5.0",
            "_model_name": "DescriptionStyleModel",
            "_view_count": null,
            "_view_module": "@jupyter-widgets/base",
            "_view_module_version": "1.2.0",
            "_view_name": "StyleView",
            "description_width": ""
          }
        },
        "ede1a2bb41c34aefadbcf391729536b1": {
          "model_module": "@jupyter-widgets/controls",
          "model_name": "HBoxModel",
          "model_module_version": "1.5.0",
          "state": {
            "_dom_classes": [],
            "_model_module": "@jupyter-widgets/controls",
            "_model_module_version": "1.5.0",
            "_model_name": "HBoxModel",
            "_view_count": null,
            "_view_module": "@jupyter-widgets/controls",
            "_view_module_version": "1.5.0",
            "_view_name": "HBoxView",
            "box_style": "",
            "children": [
              "IPY_MODEL_df94978d91144cb1a7d44027eb8389c7",
              "IPY_MODEL_3bacb50683db49409baf9c38c96c5fe9",
              "IPY_MODEL_feeffac985fa4c2390f0febcc97ea505"
            ],
            "layout": "IPY_MODEL_924be2f866db419faef75c98e455c396"
          }
        },
        "df94978d91144cb1a7d44027eb8389c7": {
          "model_module": "@jupyter-widgets/controls",
          "model_name": "HTMLModel",
          "model_module_version": "1.5.0",
          "state": {
            "_dom_classes": [],
            "_model_module": "@jupyter-widgets/controls",
            "_model_module_version": "1.5.0",
            "_model_name": "HTMLModel",
            "_view_count": null,
            "_view_module": "@jupyter-widgets/controls",
            "_view_module_version": "1.5.0",
            "_view_name": "HTMLView",
            "description": "",
            "description_tooltip": null,
            "layout": "IPY_MODEL_4b069f7fd09441b6929eb951e0f002e5",
            "placeholder": "​",
            "style": "IPY_MODEL_fed89a44177945e2997986fb1a8bcb08",
            "value": "Export report to file: 100%"
          }
        },
        "3bacb50683db49409baf9c38c96c5fe9": {
          "model_module": "@jupyter-widgets/controls",
          "model_name": "FloatProgressModel",
          "model_module_version": "1.5.0",
          "state": {
            "_dom_classes": [],
            "_model_module": "@jupyter-widgets/controls",
            "_model_module_version": "1.5.0",
            "_model_name": "FloatProgressModel",
            "_view_count": null,
            "_view_module": "@jupyter-widgets/controls",
            "_view_module_version": "1.5.0",
            "_view_name": "ProgressView",
            "bar_style": "success",
            "description": "",
            "description_tooltip": null,
            "layout": "IPY_MODEL_3509cbe3b3ee426b9d64e984cf3ef935",
            "max": 1,
            "min": 0,
            "orientation": "horizontal",
            "style": "IPY_MODEL_8fb2749600fa410397b3483d39a44ebf",
            "value": 1
          }
        },
        "feeffac985fa4c2390f0febcc97ea505": {
          "model_module": "@jupyter-widgets/controls",
          "model_name": "HTMLModel",
          "model_module_version": "1.5.0",
          "state": {
            "_dom_classes": [],
            "_model_module": "@jupyter-widgets/controls",
            "_model_module_version": "1.5.0",
            "_model_name": "HTMLModel",
            "_view_count": null,
            "_view_module": "@jupyter-widgets/controls",
            "_view_module_version": "1.5.0",
            "_view_name": "HTMLView",
            "description": "",
            "description_tooltip": null,
            "layout": "IPY_MODEL_748e3e01f6a04ddeb3367f15879124ea",
            "placeholder": "​",
            "style": "IPY_MODEL_95590fa72ce64a8b9f0f52856570b6c5",
            "value": " 1/1 [00:00&lt;00:00, 34.88it/s]"
          }
        },
        "924be2f866db419faef75c98e455c396": {
          "model_module": "@jupyter-widgets/base",
          "model_name": "LayoutModel",
          "model_module_version": "1.2.0",
          "state": {
            "_model_module": "@jupyter-widgets/base",
            "_model_module_version": "1.2.0",
            "_model_name": "LayoutModel",
            "_view_count": null,
            "_view_module": "@jupyter-widgets/base",
            "_view_module_version": "1.2.0",
            "_view_name": "LayoutView",
            "align_content": null,
            "align_items": null,
            "align_self": null,
            "border": null,
            "bottom": null,
            "display": null,
            "flex": null,
            "flex_flow": null,
            "grid_area": null,
            "grid_auto_columns": null,
            "grid_auto_flow": null,
            "grid_auto_rows": null,
            "grid_column": null,
            "grid_gap": null,
            "grid_row": null,
            "grid_template_areas": null,
            "grid_template_columns": null,
            "grid_template_rows": null,
            "height": null,
            "justify_content": null,
            "justify_items": null,
            "left": null,
            "margin": null,
            "max_height": null,
            "max_width": null,
            "min_height": null,
            "min_width": null,
            "object_fit": null,
            "object_position": null,
            "order": null,
            "overflow": null,
            "overflow_x": null,
            "overflow_y": null,
            "padding": null,
            "right": null,
            "top": null,
            "visibility": null,
            "width": null
          }
        },
        "4b069f7fd09441b6929eb951e0f002e5": {
          "model_module": "@jupyter-widgets/base",
          "model_name": "LayoutModel",
          "model_module_version": "1.2.0",
          "state": {
            "_model_module": "@jupyter-widgets/base",
            "_model_module_version": "1.2.0",
            "_model_name": "LayoutModel",
            "_view_count": null,
            "_view_module": "@jupyter-widgets/base",
            "_view_module_version": "1.2.0",
            "_view_name": "LayoutView",
            "align_content": null,
            "align_items": null,
            "align_self": null,
            "border": null,
            "bottom": null,
            "display": null,
            "flex": null,
            "flex_flow": null,
            "grid_area": null,
            "grid_auto_columns": null,
            "grid_auto_flow": null,
            "grid_auto_rows": null,
            "grid_column": null,
            "grid_gap": null,
            "grid_row": null,
            "grid_template_areas": null,
            "grid_template_columns": null,
            "grid_template_rows": null,
            "height": null,
            "justify_content": null,
            "justify_items": null,
            "left": null,
            "margin": null,
            "max_height": null,
            "max_width": null,
            "min_height": null,
            "min_width": null,
            "object_fit": null,
            "object_position": null,
            "order": null,
            "overflow": null,
            "overflow_x": null,
            "overflow_y": null,
            "padding": null,
            "right": null,
            "top": null,
            "visibility": null,
            "width": null
          }
        },
        "fed89a44177945e2997986fb1a8bcb08": {
          "model_module": "@jupyter-widgets/controls",
          "model_name": "DescriptionStyleModel",
          "model_module_version": "1.5.0",
          "state": {
            "_model_module": "@jupyter-widgets/controls",
            "_model_module_version": "1.5.0",
            "_model_name": "DescriptionStyleModel",
            "_view_count": null,
            "_view_module": "@jupyter-widgets/base",
            "_view_module_version": "1.2.0",
            "_view_name": "StyleView",
            "description_width": ""
          }
        },
        "3509cbe3b3ee426b9d64e984cf3ef935": {
          "model_module": "@jupyter-widgets/base",
          "model_name": "LayoutModel",
          "model_module_version": "1.2.0",
          "state": {
            "_model_module": "@jupyter-widgets/base",
            "_model_module_version": "1.2.0",
            "_model_name": "LayoutModel",
            "_view_count": null,
            "_view_module": "@jupyter-widgets/base",
            "_view_module_version": "1.2.0",
            "_view_name": "LayoutView",
            "align_content": null,
            "align_items": null,
            "align_self": null,
            "border": null,
            "bottom": null,
            "display": null,
            "flex": null,
            "flex_flow": null,
            "grid_area": null,
            "grid_auto_columns": null,
            "grid_auto_flow": null,
            "grid_auto_rows": null,
            "grid_column": null,
            "grid_gap": null,
            "grid_row": null,
            "grid_template_areas": null,
            "grid_template_columns": null,
            "grid_template_rows": null,
            "height": null,
            "justify_content": null,
            "justify_items": null,
            "left": null,
            "margin": null,
            "max_height": null,
            "max_width": null,
            "min_height": null,
            "min_width": null,
            "object_fit": null,
            "object_position": null,
            "order": null,
            "overflow": null,
            "overflow_x": null,
            "overflow_y": null,
            "padding": null,
            "right": null,
            "top": null,
            "visibility": null,
            "width": null
          }
        },
        "8fb2749600fa410397b3483d39a44ebf": {
          "model_module": "@jupyter-widgets/controls",
          "model_name": "ProgressStyleModel",
          "model_module_version": "1.5.0",
          "state": {
            "_model_module": "@jupyter-widgets/controls",
            "_model_module_version": "1.5.0",
            "_model_name": "ProgressStyleModel",
            "_view_count": null,
            "_view_module": "@jupyter-widgets/base",
            "_view_module_version": "1.2.0",
            "_view_name": "StyleView",
            "bar_color": null,
            "description_width": ""
          }
        },
        "748e3e01f6a04ddeb3367f15879124ea": {
          "model_module": "@jupyter-widgets/base",
          "model_name": "LayoutModel",
          "model_module_version": "1.2.0",
          "state": {
            "_model_module": "@jupyter-widgets/base",
            "_model_module_version": "1.2.0",
            "_model_name": "LayoutModel",
            "_view_count": null,
            "_view_module": "@jupyter-widgets/base",
            "_view_module_version": "1.2.0",
            "_view_name": "LayoutView",
            "align_content": null,
            "align_items": null,
            "align_self": null,
            "border": null,
            "bottom": null,
            "display": null,
            "flex": null,
            "flex_flow": null,
            "grid_area": null,
            "grid_auto_columns": null,
            "grid_auto_flow": null,
            "grid_auto_rows": null,
            "grid_column": null,
            "grid_gap": null,
            "grid_row": null,
            "grid_template_areas": null,
            "grid_template_columns": null,
            "grid_template_rows": null,
            "height": null,
            "justify_content": null,
            "justify_items": null,
            "left": null,
            "margin": null,
            "max_height": null,
            "max_width": null,
            "min_height": null,
            "min_width": null,
            "object_fit": null,
            "object_position": null,
            "order": null,
            "overflow": null,
            "overflow_x": null,
            "overflow_y": null,
            "padding": null,
            "right": null,
            "top": null,
            "visibility": null,
            "width": null
          }
        },
        "95590fa72ce64a8b9f0f52856570b6c5": {
          "model_module": "@jupyter-widgets/controls",
          "model_name": "DescriptionStyleModel",
          "model_module_version": "1.5.0",
          "state": {
            "_model_module": "@jupyter-widgets/controls",
            "_model_module_version": "1.5.0",
            "_model_name": "DescriptionStyleModel",
            "_view_count": null,
            "_view_module": "@jupyter-widgets/base",
            "_view_module_version": "1.2.0",
            "_view_name": "StyleView",
            "description_width": ""
          }
        },
        "cf630beb7d414cadb83983c7f2c0a125": {
          "model_module": "@jupyter-widgets/controls",
          "model_name": "HBoxModel",
          "model_module_version": "1.5.0",
          "state": {
            "_dom_classes": [],
            "_model_module": "@jupyter-widgets/controls",
            "_model_module_version": "1.5.0",
            "_model_name": "HBoxModel",
            "_view_count": null,
            "_view_module": "@jupyter-widgets/controls",
            "_view_module_version": "1.5.0",
            "_view_name": "HBoxView",
            "box_style": "",
            "children": [
              "IPY_MODEL_fc1786c205c345dd8fe739538fe7136b",
              "IPY_MODEL_7a09f2db414f4f889aa6461890b5d4d3",
              "IPY_MODEL_b3589c7ddcba483d83ceaba41e05f496"
            ],
            "layout": "IPY_MODEL_451635ec6bf045b7a0fff4d2d38324bd"
          }
        },
        "fc1786c205c345dd8fe739538fe7136b": {
          "model_module": "@jupyter-widgets/controls",
          "model_name": "HTMLModel",
          "model_module_version": "1.5.0",
          "state": {
            "_dom_classes": [],
            "_model_module": "@jupyter-widgets/controls",
            "_model_module_version": "1.5.0",
            "_model_name": "HTMLModel",
            "_view_count": null,
            "_view_module": "@jupyter-widgets/controls",
            "_view_module_version": "1.5.0",
            "_view_name": "HTMLView",
            "description": "",
            "description_tooltip": null,
            "layout": "IPY_MODEL_ae546d1414cb4e86b9ce18531277bc84",
            "placeholder": "​",
            "style": "IPY_MODEL_8d76c059ca7f48e1a646d1f7c3d290fe",
            "value": "Done! Use &#x27;show&#x27; commands to display/save.   "
          }
        },
        "7a09f2db414f4f889aa6461890b5d4d3": {
          "model_module": "@jupyter-widgets/controls",
          "model_name": "FloatProgressModel",
          "model_module_version": "1.5.0",
          "state": {
            "_dom_classes": [],
            "_model_module": "@jupyter-widgets/controls",
            "_model_module_version": "1.5.0",
            "_model_name": "FloatProgressModel",
            "_view_count": null,
            "_view_module": "@jupyter-widgets/controls",
            "_view_module_version": "1.5.0",
            "_view_name": "ProgressView",
            "bar_style": "success",
            "description": "",
            "description_tooltip": null,
            "layout": "IPY_MODEL_0855a92280ac48b49b5311bc9f9e97e4",
            "max": 1,
            "min": 0,
            "orientation": "horizontal",
            "style": "IPY_MODEL_e5776a0c454942e8834d485688d141f8",
            "value": 1
          }
        },
        "b3589c7ddcba483d83ceaba41e05f496": {
          "model_module": "@jupyter-widgets/controls",
          "model_name": "HTMLModel",
          "model_module_version": "1.5.0",
          "state": {
            "_dom_classes": [],
            "_model_module": "@jupyter-widgets/controls",
            "_model_module_version": "1.5.0",
            "_model_name": "HTMLModel",
            "_view_count": null,
            "_view_module": "@jupyter-widgets/controls",
            "_view_module_version": "1.5.0",
            "_view_name": "HTMLView",
            "description": "",
            "description_tooltip": null,
            "layout": "IPY_MODEL_ea62ed7d8b2744fba797b5e2811d26b2",
            "placeholder": "​",
            "style": "IPY_MODEL_f63a1d8102ef49e890c17a0f635987fd",
            "value": " [100%]   00:01 -&gt; (00:00 left)"
          }
        },
        "451635ec6bf045b7a0fff4d2d38324bd": {
          "model_module": "@jupyter-widgets/base",
          "model_name": "LayoutModel",
          "model_module_version": "1.2.0",
          "state": {
            "_model_module": "@jupyter-widgets/base",
            "_model_module_version": "1.2.0",
            "_model_name": "LayoutModel",
            "_view_count": null,
            "_view_module": "@jupyter-widgets/base",
            "_view_module_version": "1.2.0",
            "_view_name": "LayoutView",
            "align_content": null,
            "align_items": null,
            "align_self": null,
            "border": null,
            "bottom": null,
            "display": "inline-flex",
            "flex": null,
            "flex_flow": "row wrap",
            "grid_area": null,
            "grid_auto_columns": null,
            "grid_auto_flow": null,
            "grid_auto_rows": null,
            "grid_column": null,
            "grid_gap": null,
            "grid_row": null,
            "grid_template_areas": null,
            "grid_template_columns": null,
            "grid_template_rows": null,
            "height": null,
            "justify_content": null,
            "justify_items": null,
            "left": null,
            "margin": null,
            "max_height": null,
            "max_width": null,
            "min_height": null,
            "min_width": null,
            "object_fit": null,
            "object_position": null,
            "order": null,
            "overflow": null,
            "overflow_x": null,
            "overflow_y": null,
            "padding": null,
            "right": null,
            "top": null,
            "visibility": null,
            "width": "100%"
          }
        },
        "ae546d1414cb4e86b9ce18531277bc84": {
          "model_module": "@jupyter-widgets/base",
          "model_name": "LayoutModel",
          "model_module_version": "1.2.0",
          "state": {
            "_model_module": "@jupyter-widgets/base",
            "_model_module_version": "1.2.0",
            "_model_name": "LayoutModel",
            "_view_count": null,
            "_view_module": "@jupyter-widgets/base",
            "_view_module_version": "1.2.0",
            "_view_name": "LayoutView",
            "align_content": null,
            "align_items": null,
            "align_self": null,
            "border": null,
            "bottom": null,
            "display": null,
            "flex": null,
            "flex_flow": null,
            "grid_area": null,
            "grid_auto_columns": null,
            "grid_auto_flow": null,
            "grid_auto_rows": null,
            "grid_column": null,
            "grid_gap": null,
            "grid_row": null,
            "grid_template_areas": null,
            "grid_template_columns": null,
            "grid_template_rows": null,
            "height": null,
            "justify_content": null,
            "justify_items": null,
            "left": null,
            "margin": null,
            "max_height": null,
            "max_width": null,
            "min_height": null,
            "min_width": null,
            "object_fit": null,
            "object_position": null,
            "order": null,
            "overflow": null,
            "overflow_x": null,
            "overflow_y": null,
            "padding": null,
            "right": null,
            "top": null,
            "visibility": null,
            "width": null
          }
        },
        "8d76c059ca7f48e1a646d1f7c3d290fe": {
          "model_module": "@jupyter-widgets/controls",
          "model_name": "DescriptionStyleModel",
          "model_module_version": "1.5.0",
          "state": {
            "_model_module": "@jupyter-widgets/controls",
            "_model_module_version": "1.5.0",
            "_model_name": "DescriptionStyleModel",
            "_view_count": null,
            "_view_module": "@jupyter-widgets/base",
            "_view_module_version": "1.2.0",
            "_view_name": "StyleView",
            "description_width": ""
          }
        },
        "0855a92280ac48b49b5311bc9f9e97e4": {
          "model_module": "@jupyter-widgets/base",
          "model_name": "LayoutModel",
          "model_module_version": "1.2.0",
          "state": {
            "_model_module": "@jupyter-widgets/base",
            "_model_module_version": "1.2.0",
            "_model_name": "LayoutModel",
            "_view_count": null,
            "_view_module": "@jupyter-widgets/base",
            "_view_module_version": "1.2.0",
            "_view_name": "LayoutView",
            "align_content": null,
            "align_items": null,
            "align_self": null,
            "border": null,
            "bottom": null,
            "display": null,
            "flex": "2",
            "flex_flow": null,
            "grid_area": null,
            "grid_auto_columns": null,
            "grid_auto_flow": null,
            "grid_auto_rows": null,
            "grid_column": null,
            "grid_gap": null,
            "grid_row": null,
            "grid_template_areas": null,
            "grid_template_columns": null,
            "grid_template_rows": null,
            "height": null,
            "justify_content": null,
            "justify_items": null,
            "left": null,
            "margin": null,
            "max_height": null,
            "max_width": null,
            "min_height": null,
            "min_width": null,
            "object_fit": null,
            "object_position": null,
            "order": null,
            "overflow": null,
            "overflow_x": null,
            "overflow_y": null,
            "padding": null,
            "right": null,
            "top": null,
            "visibility": null,
            "width": null
          }
        },
        "e5776a0c454942e8834d485688d141f8": {
          "model_module": "@jupyter-widgets/controls",
          "model_name": "ProgressStyleModel",
          "model_module_version": "1.5.0",
          "state": {
            "_model_module": "@jupyter-widgets/controls",
            "_model_module_version": "1.5.0",
            "_model_name": "ProgressStyleModel",
            "_view_count": null,
            "_view_module": "@jupyter-widgets/base",
            "_view_module_version": "1.2.0",
            "_view_name": "StyleView",
            "bar_color": null,
            "description_width": ""
          }
        },
        "ea62ed7d8b2744fba797b5e2811d26b2": {
          "model_module": "@jupyter-widgets/base",
          "model_name": "LayoutModel",
          "model_module_version": "1.2.0",
          "state": {
            "_model_module": "@jupyter-widgets/base",
            "_model_module_version": "1.2.0",
            "_model_name": "LayoutModel",
            "_view_count": null,
            "_view_module": "@jupyter-widgets/base",
            "_view_module_version": "1.2.0",
            "_view_name": "LayoutView",
            "align_content": null,
            "align_items": null,
            "align_self": null,
            "border": null,
            "bottom": null,
            "display": null,
            "flex": null,
            "flex_flow": null,
            "grid_area": null,
            "grid_auto_columns": null,
            "grid_auto_flow": null,
            "grid_auto_rows": null,
            "grid_column": null,
            "grid_gap": null,
            "grid_row": null,
            "grid_template_areas": null,
            "grid_template_columns": null,
            "grid_template_rows": null,
            "height": null,
            "justify_content": null,
            "justify_items": null,
            "left": null,
            "margin": null,
            "max_height": null,
            "max_width": null,
            "min_height": null,
            "min_width": null,
            "object_fit": null,
            "object_position": null,
            "order": null,
            "overflow": null,
            "overflow_x": null,
            "overflow_y": null,
            "padding": null,
            "right": null,
            "top": null,
            "visibility": null,
            "width": null
          }
        },
        "f63a1d8102ef49e890c17a0f635987fd": {
          "model_module": "@jupyter-widgets/controls",
          "model_name": "DescriptionStyleModel",
          "model_module_version": "1.5.0",
          "state": {
            "_model_module": "@jupyter-widgets/controls",
            "_model_module_version": "1.5.0",
            "_model_name": "DescriptionStyleModel",
            "_view_count": null,
            "_view_module": "@jupyter-widgets/base",
            "_view_module_version": "1.2.0",
            "_view_name": "StyleView",
            "description_width": ""
          }
        }
      }
    }
  },
  "cells": [
    {
      "cell_type": "markdown",
      "metadata": {
        "id": "view-in-github",
        "colab_type": "text"
      },
      "source": [
        "<a href=\"https://colab.research.google.com/github/JeicieSugui/it-cert-automation-practice/blob/master/DATASCI__Data_Collection_Methods.ipynb\" target=\"_parent\"><img src=\"https://colab.research.google.com/assets/colab-badge.svg\" alt=\"Open In Colab\"/></a>"
      ]
    },
    {
      "cell_type": "markdown",
      "source": [
        "# Automating ETL Pipelining with Python and SQLite3 for API Data"
      ],
      "metadata": {
        "id": "atnx-OAcrgvy"
      }
    },
    {
      "cell_type": "markdown",
      "source": [
        "## Setup API and Request Token"
      ],
      "metadata": {
        "id": "LENgJvUYrpUv"
      }
    },
    {
      "cell_type": "markdown",
      "source": [
        "![Screenshot 2024-10-24 at 7.21.53 AM.png](data:image/png;base64,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)"
      ],
      "metadata": {
        "id": "delMZ6XTr9Wy"
      }
    },
    {
      "cell_type": "markdown",
      "source": [
        "NCDC's Climate Data Online (CDO) offers web services that provide access to current data. This API is for developers looking to create their own scripts or programs that use the CDO database of weather and climate data. An access token is required to use the API, and each token will be limited to five requests per second and 10,000 requests per day."
      ],
      "metadata": {
        "id": "S2iWROWgr6d3"
      }
    },
    {
      "cell_type": "markdown",
      "source": [
        "**Request token**\n",
        "\n",
        "In order to access the CDO web services a token must first be obtained from the [token request page](https://www.ncdc.noaa.gov/cdo-web/token).\n",
        "\n"
      ],
      "metadata": {
        "id": "1wSxfJchrr7G"
      }
    },
    {
      "cell_type": "markdown",
      "source": [
        "**Check if your token works**"
      ],
      "metadata": {
        "id": "Ldvh5jHwsgyM"
      }
    },
    {
      "cell_type": "code",
      "source": [
        "import requests\n",
        "\n",
        "def make_request(endpoint, payload=None):\n",
        "\n",
        "  return requests.get(\n",
        "      f'https://www.ncei.noaa.gov/cdo-web/api/v2/{endpoint}',\n",
        "      headers={\n",
        "          'token':'MEmZzWPmaqhAZYiGVMAUVpOkIzDazVsR' # Replace with your token\n",
        "      },\n",
        "      params=payload\n",
        "  )"
      ],
      "metadata": {
        "id": "9gbYEaF0skDp"
      },
      "execution_count": 2,
      "outputs": []
    },
    {
      "cell_type": "code",
      "source": [
        "response = make_request('datasets')\n",
        "response.status_code"
      ],
      "metadata": {
        "colab": {
          "base_uri": "https://localhost:8080/"
        },
        "id": "yrrrjyRZss0P",
        "outputId": "13ded299-7c7c-4547-c8b2-5d011112328f"
      },
      "execution_count": 3,
      "outputs": [
        {
          "output_type": "execute_result",
          "data": {
            "text/plain": [
              "200"
            ]
          },
          "metadata": {},
          "execution_count": 3
        }
      ]
    },
    {
      "cell_type": "markdown",
      "source": [
        "### Status Code Details"
      ],
      "metadata": {
        "id": "KPmNsSxItiBB"
      }
    },
    {
      "cell_type": "markdown",
      "source": [
        "![Screenshot 2024-10-24 at 7.26.48 AM.png](data:image/png;base64,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)"
      ],
      "metadata": {
        "id": "7hHAL4SQtFpr"
      }
    },
    {
      "cell_type": "markdown",
      "source": [
        "https://developer.mozilla.org/en-US/docs/Web/HTTP/Status"
      ],
      "metadata": {
        "id": "PshKNcr6tK4N"
      }
    },
    {
      "cell_type": "markdown",
      "source": [
        "If you got a `status_code` of `200` then you're good to go!"
      ],
      "metadata": {
        "id": "i1uwcE_CtNA7"
      }
    },
    {
      "cell_type": "markdown",
      "source": [
        "## Setup Database"
      ],
      "metadata": {
        "id": "x_eV_xzMtR5R"
      }
    },
    {
      "cell_type": "markdown",
      "source": [
        "We'll create a SQLite3 database to store the extracted climate data."
      ],
      "metadata": {
        "id": "neQDqH6ltcV-"
      }
    },
    {
      "cell_type": "code",
      "source": [
        "import sqlite3\n",
        "\n",
        "# Create or connect to SQLite3 database\n",
        "conn = sqlite3.connect('climate_data.db')\n",
        "cur = conn.cursor()\n",
        "\n",
        "# Create a table to store the climate data\n",
        "cur.execute('''CREATE TABLE IF NOT EXISTS climate_data (\n",
        "                date TEXT,\n",
        "                datatype TEXT,\n",
        "                station TEXT,\n",
        "                value REAL,\n",
        "                attributes TEXT\n",
        "            )''')\n",
        "\n",
        "conn.commit()"
      ],
      "metadata": {
        "id": "xCHQ4IpKs_xJ"
      },
      "execution_count": 1,
      "outputs": []
    },
    {
      "cell_type": "markdown",
      "source": [
        "Before we make API calls, configure the base URL and API token for authentication."
      ],
      "metadata": {
        "id": "DMUIGcgOttzq"
      }
    },
    {
      "cell_type": "code",
      "source": [
        "import requests\n",
        "\n",
        "# NOAA API Base URL\n",
        "base_url = \"https://www.ncdc.noaa.gov/cdo-web/api/v2/data\"\n",
        "\n",
        "# Your NOAA API token\n",
        "headers = {\n",
        "    'token': 'MEmZzWPmaqhAZYiGVMAUVpOkIzDazVsR'  # Replace with your actual token\n",
        "}"
      ],
      "metadata": {
        "id": "_aRABwEdtuEH"
      },
      "execution_count": 4,
      "outputs": []
    },
    {
      "cell_type": "markdown",
      "source": [
        "Now, we’ll extract climate data (for example, temperature or precipitation data) from the NOAA API."
      ],
      "metadata": {
        "id": "kvPvuCUYt2wU"
      }
    },
    {
      "cell_type": "code",
      "source": [
        "def extract_climate_data(datasetid, start_date, end_date, stationid, datatypeid, limit=1000):\n",
        "    params = {\n",
        "        'datasetid': datasetid,\n",
        "        'startdate': start_date,\n",
        "        'enddate': end_date,\n",
        "        'stationid': stationid,\n",
        "        'datatypeid': datatypeid,\n",
        "        'limit': limit\n",
        "    }\n",
        "\n",
        "    response = requests.get(base_url, headers=headers, params=params)\n",
        "\n",
        "    if response.status_code == 200:\n",
        "        return response.json().get('results', [])\n",
        "    else:\n",
        "        print(f\"Error: {response.status_code}, {response.text}\")\n",
        "        return []\n"
      ],
      "metadata": {
        "id": "nWANnNoXt54m"
      },
      "execution_count": 5,
      "outputs": []
    },
    {
      "cell_type": "markdown",
      "source": [
        "Here’s how we can extract climate data for a specific station and time period."
      ],
      "metadata": {
        "id": "TVq9gDZ8uCWk"
      }
    },
    {
      "cell_type": "code",
      "source": [
        "dataset_id = \"GHCND\"  # Global Historical Climatology Network Daily\n",
        "start_date = \"2023-01-01\"\n",
        "end_date = \"2023-01-31\"\n",
        "station_id = \"GHCND:USW00094728\"  # Example station ID\n",
        "datatype_id = \"TMIN\"  # Minimum Temperature\n",
        "\n",
        "data = extract_climate_data(dataset_id, start_date, end_date, station_id, datatype_id)\n",
        "\n",
        "# Sample data output\n",
        "for entry in data:\n",
        "    print(entry)"
      ],
      "metadata": {
        "colab": {
          "base_uri": "https://localhost:8080/"
        },
        "id": "bm2UE7L7t_uI",
        "outputId": "1457cecc-bb80-467c-a166-be8f8aa59bbb"
      },
      "execution_count": 6,
      "outputs": [
        {
          "output_type": "stream",
          "name": "stdout",
          "text": [
            "{'date': '2023-01-01T00:00:00', 'datatype': 'TMIN', 'station': 'GHCND:USW00094728', 'attributes': ',,W,2400', 'value': 94}\n",
            "{'date': '2023-01-02T00:00:00', 'datatype': 'TMIN', 'station': 'GHCND:USW00094728', 'attributes': ',,W,2400', 'value': 94}\n",
            "{'date': '2023-01-03T00:00:00', 'datatype': 'TMIN', 'station': 'GHCND:USW00094728', 'attributes': ',,W,2400', 'value': 83}\n",
            "{'date': '2023-01-04T00:00:00', 'datatype': 'TMIN', 'station': 'GHCND:USW00094728', 'attributes': ',,W,2400', 'value': 94}\n",
            "{'date': '2023-01-05T00:00:00', 'datatype': 'TMIN', 'station': 'GHCND:USW00094728', 'attributes': ',,W,2400', 'value': 67}\n",
            "{'date': '2023-01-06T00:00:00', 'datatype': 'TMIN', 'station': 'GHCND:USW00094728', 'attributes': ',,W,2400', 'value': 39}\n",
            "{'date': '2023-01-07T00:00:00', 'datatype': 'TMIN', 'station': 'GHCND:USW00094728', 'attributes': ',,W,2400', 'value': 28}\n",
            "{'date': '2023-01-08T00:00:00', 'datatype': 'TMIN', 'station': 'GHCND:USW00094728', 'attributes': ',,W,2400', 'value': 6}\n",
            "{'date': '2023-01-09T00:00:00', 'datatype': 'TMIN', 'station': 'GHCND:USW00094728', 'attributes': ',,W,2400', 'value': 28}\n",
            "{'date': '2023-01-10T00:00:00', 'datatype': 'TMIN', 'station': 'GHCND:USW00094728', 'attributes': ',,W,2400', 'value': 33}\n",
            "{'date': '2023-01-11T00:00:00', 'datatype': 'TMIN', 'station': 'GHCND:USW00094728', 'attributes': ',,W,2400', 'value': 17}\n",
            "{'date': '2023-01-12T00:00:00', 'datatype': 'TMIN', 'station': 'GHCND:USW00094728', 'attributes': ',,W,2400', 'value': 28}\n",
            "{'date': '2023-01-13T00:00:00', 'datatype': 'TMIN', 'station': 'GHCND:USW00094728', 'attributes': ',,W,2400', 'value': 33}\n",
            "{'date': '2023-01-14T00:00:00', 'datatype': 'TMIN', 'station': 'GHCND:USW00094728', 'attributes': ',,W,2400', 'value': -5}\n",
            "{'date': '2023-01-15T00:00:00', 'datatype': 'TMIN', 'station': 'GHCND:USW00094728', 'attributes': ',,W,2400', 'value': -10}\n",
            "{'date': '2023-01-16T00:00:00', 'datatype': 'TMIN', 'station': 'GHCND:USW00094728', 'attributes': ',,W,2400', 'value': -21}\n",
            "{'date': '2023-01-17T00:00:00', 'datatype': 'TMIN', 'station': 'GHCND:USW00094728', 'attributes': ',,W,2400', 'value': 17}\n",
            "{'date': '2023-01-18T00:00:00', 'datatype': 'TMIN', 'station': 'GHCND:USW00094728', 'attributes': ',,W,2400', 'value': 56}\n",
            "{'date': '2023-01-19T00:00:00', 'datatype': 'TMIN', 'station': 'GHCND:USW00094728', 'attributes': ',,W,2400', 'value': 44}\n",
            "{'date': '2023-01-20T00:00:00', 'datatype': 'TMIN', 'station': 'GHCND:USW00094728', 'attributes': ',,W,2400', 'value': 44}\n",
            "{'date': '2023-01-21T00:00:00', 'datatype': 'TMIN', 'station': 'GHCND:USW00094728', 'attributes': ',,W,2400', 'value': 28}\n",
            "{'date': '2023-01-22T00:00:00', 'datatype': 'TMIN', 'station': 'GHCND:USW00094728', 'attributes': ',,W,2400', 'value': 22}\n",
            "{'date': '2023-01-23T00:00:00', 'datatype': 'TMIN', 'station': 'GHCND:USW00094728', 'attributes': ',,W,2400', 'value': 22}\n",
            "{'date': '2023-01-24T00:00:00', 'datatype': 'TMIN', 'station': 'GHCND:USW00094728', 'attributes': ',,W,2400', 'value': 17}\n",
            "{'date': '2023-01-25T00:00:00', 'datatype': 'TMIN', 'station': 'GHCND:USW00094728', 'attributes': ',,W,2400', 'value': 17}\n",
            "{'date': '2023-01-26T00:00:00', 'datatype': 'TMIN', 'station': 'GHCND:USW00094728', 'attributes': ',,W,2400', 'value': 50}\n",
            "{'date': '2023-01-27T00:00:00', 'datatype': 'TMIN', 'station': 'GHCND:USW00094728', 'attributes': ',,W,2400', 'value': 17}\n",
            "{'date': '2023-01-28T00:00:00', 'datatype': 'TMIN', 'station': 'GHCND:USW00094728', 'attributes': ',,W,2400', 'value': 22}\n",
            "{'date': '2023-01-29T00:00:00', 'datatype': 'TMIN', 'station': 'GHCND:USW00094728', 'attributes': ',,W,2400', 'value': 56}\n",
            "{'date': '2023-01-30T00:00:00', 'datatype': 'TMIN', 'station': 'GHCND:USW00094728', 'attributes': ',,W,2400', 'value': 61}\n",
            "{'date': '2023-01-31T00:00:00', 'datatype': 'TMIN', 'station': 'GHCND:USW00094728', 'attributes': ',,W,2400', 'value': -5}\n"
          ]
        }
      ]
    },
    {
      "cell_type": "markdown",
      "source": [
        "Once the data is extracted, we may need to clean or transform it. For example, converting temperature from tenths of a degree Celsius to degrees."
      ],
      "metadata": {
        "id": "DptAiTc5uKeG"
      }
    },
    {
      "cell_type": "code",
      "source": [
        "def transform_data(data):\n",
        "    transformed_data = []\n",
        "\n",
        "    for entry in data:\n",
        "        # Convert temperature to degrees (from tenths)\n",
        "        if entry['datatype'] == 'TMIN' or entry['datatype'] == 'TMAX':\n",
        "            entry['value'] = entry['value'] / 10.0\n",
        "\n",
        "        transformed_data.append(entry)\n",
        "\n",
        "    return transformed_data\n",
        "\n",
        "transformed_data = transform_data(data)"
      ],
      "metadata": {
        "id": "7jvD6hZsuEPI"
      },
      "execution_count": null,
      "outputs": []
    },
    {
      "cell_type": "code",
      "source": [
        "transformed_data"
      ],
      "metadata": {
        "id": "0-E4mQIAuQ0l",
        "colab": {
          "base_uri": "https://localhost:8080/"
        },
        "outputId": "00ab6927-f596-4019-f15f-06e489d7fe30"
      },
      "execution_count": null,
      "outputs": [
        {
          "output_type": "execute_result",
          "data": {
            "text/plain": [
              "[{'date': '2023-01-01T00:00:00',\n",
              "  'datatype': 'TMIN',\n",
              "  'station': 'GHCND:USW00094728',\n",
              "  'attributes': ',,W,2400',\n",
              "  'value': 9.4},\n",
              " {'date': '2023-01-02T00:00:00',\n",
              "  'datatype': 'TMIN',\n",
              "  'station': 'GHCND:USW00094728',\n",
              "  'attributes': ',,W,2400',\n",
              "  'value': 9.4},\n",
              " {'date': '2023-01-03T00:00:00',\n",
              "  'datatype': 'TMIN',\n",
              "  'station': 'GHCND:USW00094728',\n",
              "  'attributes': ',,W,2400',\n",
              "  'value': 8.3},\n",
              " {'date': '2023-01-04T00:00:00',\n",
              "  'datatype': 'TMIN',\n",
              "  'station': 'GHCND:USW00094728',\n",
              "  'attributes': ',,W,2400',\n",
              "  'value': 9.4},\n",
              " {'date': '2023-01-05T00:00:00',\n",
              "  'datatype': 'TMIN',\n",
              "  'station': 'GHCND:USW00094728',\n",
              "  'attributes': ',,W,2400',\n",
              "  'value': 6.7},\n",
              " {'date': '2023-01-06T00:00:00',\n",
              "  'datatype': 'TMIN',\n",
              "  'station': 'GHCND:USW00094728',\n",
              "  'attributes': ',,W,2400',\n",
              "  'value': 3.9},\n",
              " {'date': '2023-01-07T00:00:00',\n",
              "  'datatype': 'TMIN',\n",
              "  'station': 'GHCND:USW00094728',\n",
              "  'attributes': ',,W,2400',\n",
              "  'value': 2.8},\n",
              " {'date': '2023-01-08T00:00:00',\n",
              "  'datatype': 'TMIN',\n",
              "  'station': 'GHCND:USW00094728',\n",
              "  'attributes': ',,W,2400',\n",
              "  'value': 0.6},\n",
              " {'date': '2023-01-09T00:00:00',\n",
              "  'datatype': 'TMIN',\n",
              "  'station': 'GHCND:USW00094728',\n",
              "  'attributes': ',,W,2400',\n",
              "  'value': 2.8},\n",
              " {'date': '2023-01-10T00:00:00',\n",
              "  'datatype': 'TMIN',\n",
              "  'station': 'GHCND:USW00094728',\n",
              "  'attributes': ',,W,2400',\n",
              "  'value': 3.3},\n",
              " {'date': '2023-01-11T00:00:00',\n",
              "  'datatype': 'TMIN',\n",
              "  'station': 'GHCND:USW00094728',\n",
              "  'attributes': ',,W,2400',\n",
              "  'value': 1.7},\n",
              " {'date': '2023-01-12T00:00:00',\n",
              "  'datatype': 'TMIN',\n",
              "  'station': 'GHCND:USW00094728',\n",
              "  'attributes': ',,W,2400',\n",
              "  'value': 2.8},\n",
              " {'date': '2023-01-13T00:00:00',\n",
              "  'datatype': 'TMIN',\n",
              "  'station': 'GHCND:USW00094728',\n",
              "  'attributes': ',,W,2400',\n",
              "  'value': 3.3},\n",
              " {'date': '2023-01-14T00:00:00',\n",
              "  'datatype': 'TMIN',\n",
              "  'station': 'GHCND:USW00094728',\n",
              "  'attributes': ',,W,2400',\n",
              "  'value': -0.5},\n",
              " {'date': '2023-01-15T00:00:00',\n",
              "  'datatype': 'TMIN',\n",
              "  'station': 'GHCND:USW00094728',\n",
              "  'attributes': ',,W,2400',\n",
              "  'value': -1.0},\n",
              " {'date': '2023-01-16T00:00:00',\n",
              "  'datatype': 'TMIN',\n",
              "  'station': 'GHCND:USW00094728',\n",
              "  'attributes': ',,W,2400',\n",
              "  'value': -2.1},\n",
              " {'date': '2023-01-17T00:00:00',\n",
              "  'datatype': 'TMIN',\n",
              "  'station': 'GHCND:USW00094728',\n",
              "  'attributes': ',,W,2400',\n",
              "  'value': 1.7},\n",
              " {'date': '2023-01-18T00:00:00',\n",
              "  'datatype': 'TMIN',\n",
              "  'station': 'GHCND:USW00094728',\n",
              "  'attributes': ',,W,2400',\n",
              "  'value': 5.6},\n",
              " {'date': '2023-01-19T00:00:00',\n",
              "  'datatype': 'TMIN',\n",
              "  'station': 'GHCND:USW00094728',\n",
              "  'attributes': ',,W,2400',\n",
              "  'value': 4.4},\n",
              " {'date': '2023-01-20T00:00:00',\n",
              "  'datatype': 'TMIN',\n",
              "  'station': 'GHCND:USW00094728',\n",
              "  'attributes': ',,W,2400',\n",
              "  'value': 4.4},\n",
              " {'date': '2023-01-21T00:00:00',\n",
              "  'datatype': 'TMIN',\n",
              "  'station': 'GHCND:USW00094728',\n",
              "  'attributes': ',,W,2400',\n",
              "  'value': 2.8},\n",
              " {'date': '2023-01-22T00:00:00',\n",
              "  'datatype': 'TMIN',\n",
              "  'station': 'GHCND:USW00094728',\n",
              "  'attributes': ',,W,2400',\n",
              "  'value': 2.2},\n",
              " {'date': '2023-01-23T00:00:00',\n",
              "  'datatype': 'TMIN',\n",
              "  'station': 'GHCND:USW00094728',\n",
              "  'attributes': ',,W,2400',\n",
              "  'value': 2.2},\n",
              " {'date': '2023-01-24T00:00:00',\n",
              "  'datatype': 'TMIN',\n",
              "  'station': 'GHCND:USW00094728',\n",
              "  'attributes': ',,W,2400',\n",
              "  'value': 1.7},\n",
              " {'date': '2023-01-25T00:00:00',\n",
              "  'datatype': 'TMIN',\n",
              "  'station': 'GHCND:USW00094728',\n",
              "  'attributes': ',,W,2400',\n",
              "  'value': 1.7},\n",
              " {'date': '2023-01-26T00:00:00',\n",
              "  'datatype': 'TMIN',\n",
              "  'station': 'GHCND:USW00094728',\n",
              "  'attributes': ',,W,2400',\n",
              "  'value': 5.0},\n",
              " {'date': '2023-01-27T00:00:00',\n",
              "  'datatype': 'TMIN',\n",
              "  'station': 'GHCND:USW00094728',\n",
              "  'attributes': ',,W,2400',\n",
              "  'value': 1.7},\n",
              " {'date': '2023-01-28T00:00:00',\n",
              "  'datatype': 'TMIN',\n",
              "  'station': 'GHCND:USW00094728',\n",
              "  'attributes': ',,W,2400',\n",
              "  'value': 2.2},\n",
              " {'date': '2023-01-29T00:00:00',\n",
              "  'datatype': 'TMIN',\n",
              "  'station': 'GHCND:USW00094728',\n",
              "  'attributes': ',,W,2400',\n",
              "  'value': 5.6},\n",
              " {'date': '2023-01-30T00:00:00',\n",
              "  'datatype': 'TMIN',\n",
              "  'station': 'GHCND:USW00094728',\n",
              "  'attributes': ',,W,2400',\n",
              "  'value': 6.1},\n",
              " {'date': '2023-01-31T00:00:00',\n",
              "  'datatype': 'TMIN',\n",
              "  'station': 'GHCND:USW00094728',\n",
              "  'attributes': ',,W,2400',\n",
              "  'value': -0.5}]"
            ]
          },
          "metadata": {},
          "execution_count": 8
        }
      ]
    },
    {
      "cell_type": "markdown",
      "source": [
        "Next, we'll load the transformed data into the SQLite3 database."
      ],
      "metadata": {
        "id": "Pt24KaMEuWUf"
      }
    },
    {
      "cell_type": "code",
      "source": [
        "def load_data_to_sqlite(transformed_data):\n",
        "    for entry in transformed_data:\n",
        "        cur.execute('''INSERT INTO climate_data (date, datatype, station, value, attributes)\n",
        "                       VALUES (?, ?, ?, ?, ?)''',\n",
        "                    (entry['date'], entry['datatype'], entry['station'], entry['value'], entry['attributes']))\n",
        "\n",
        "    conn.commit()\n",
        "\n",
        "load_data_to_sqlite(transformed_data)"
      ],
      "metadata": {
        "id": "gbl8BB2EuSCO"
      },
      "execution_count": null,
      "outputs": []
    },
    {
      "cell_type": "markdown",
      "source": [
        "Finally, you can query the SQLite3 database to verify that the data has been loaded correctly.\n"
      ],
      "metadata": {
        "id": "DXwTrfdRujvk"
      }
    },
    {
      "cell_type": "code",
      "source": [
        "def query_data():\n",
        "    cur.execute('SELECT * FROM climate_data LIMIT 10')\n",
        "    rows = cur.fetchall()\n",
        "\n",
        "    for row in rows:\n",
        "        print(row)\n",
        "\n",
        "query_data()"
      ],
      "metadata": {
        "colab": {
          "base_uri": "https://localhost:8080/"
        },
        "id": "l1IM3Op3uZuo",
        "outputId": "1af79286-1c6f-4a51-dafd-2c56815741ac"
      },
      "execution_count": null,
      "outputs": [
        {
          "output_type": "stream",
          "name": "stdout",
          "text": [
            "('2023-01-01T00:00:00', 'TMIN', 'GHCND:USW00094728', 9.4, ',,W,2400')\n",
            "('2023-01-02T00:00:00', 'TMIN', 'GHCND:USW00094728', 9.4, ',,W,2400')\n",
            "('2023-01-03T00:00:00', 'TMIN', 'GHCND:USW00094728', 8.3, ',,W,2400')\n",
            "('2023-01-04T00:00:00', 'TMIN', 'GHCND:USW00094728', 9.4, ',,W,2400')\n",
            "('2023-01-05T00:00:00', 'TMIN', 'GHCND:USW00094728', 6.7, ',,W,2400')\n",
            "('2023-01-06T00:00:00', 'TMIN', 'GHCND:USW00094728', 3.9, ',,W,2400')\n",
            "('2023-01-07T00:00:00', 'TMIN', 'GHCND:USW00094728', 2.8, ',,W,2400')\n",
            "('2023-01-08T00:00:00', 'TMIN', 'GHCND:USW00094728', 0.6, ',,W,2400')\n",
            "('2023-01-09T00:00:00', 'TMIN', 'GHCND:USW00094728', 2.8, ',,W,2400')\n",
            "('2023-01-10T00:00:00', 'TMIN', 'GHCND:USW00094728', 3.3, ',,W,2400')\n"
          ]
        }
      ]
    },
    {
      "cell_type": "code",
      "source": [
        "cur.close()\n",
        "conn.close()"
      ],
      "metadata": {
        "id": "MiUyP3WYveSv"
      },
      "execution_count": null,
      "outputs": []
    },
    {
      "cell_type": "markdown",
      "source": [
        "## Automate the ETL Process"
      ],
      "metadata": {
        "id": "tbaMpLGxuneF"
      }
    },
    {
      "cell_type": "markdown",
      "source": [
        "We can combine the above steps into a single function that performs the entire ETL process automatically."
      ],
      "metadata": {
        "id": "pRjQ4LjlurvU"
      }
    },
    {
      "cell_type": "code",
      "source": [
        "# Connect to the database first"
      ],
      "metadata": {
        "id": "jQeNn8HEv3HR"
      },
      "execution_count": null,
      "outputs": []
    },
    {
      "cell_type": "code",
      "source": [
        "def automate_etl(datasetid, start_date, end_date, stationid, datatypeid):\n",
        "    # Extract\n",
        "    raw_data = extract_climate_data(datasetid, start_date, end_date, stationid, datatypeid)\n",
        "\n",
        "    # Transform\n",
        "    transformed_data = transform_data(raw_data)\n",
        "\n",
        "    # Load\n",
        "    load_data_to_sqlite(transformed_data)\n",
        "\n",
        "    print(f\"ETL Process completed for {stationid} from {start_date} to {end_date}\")\n",
        "\n",
        "# Run the ETL process for January 2023 data\n",
        "automate_etl(\"GHCND\", \"2023-01-01\", \"2023-01-31\", \"GHCND:USW00094728\", \"TMIN\")\n"
      ],
      "metadata": {
        "id": "-w_BjFtauqIr"
      },
      "execution_count": null,
      "outputs": []
    },
    {
      "cell_type": "code",
      "source": [
        "# Close the connection to the database"
      ],
      "metadata": {
        "id": "sH7WeapTv5Zq"
      },
      "execution_count": null,
      "outputs": []
    },
    {
      "cell_type": "markdown",
      "source": [
        "# Using Automated EDA Tools"
      ],
      "metadata": {
        "id": "fwwUAoenv8np"
      }
    },
    {
      "cell_type": "markdown",
      "source": [
        "We will extract the data from the SQLite3 database, create a Pandas DataFrame, and then perform automated Exploratory Data Analysis (EDA), you can use libraries like pandas, sqlite3, and automated EDA tools like pandas_profiling or sweetviz."
      ],
      "metadata": {
        "id": "xAWfi4-l0hzg"
      }
    },
    {
      "cell_type": "code",
      "source": [
        "import sqlite3\n",
        "import pandas as pd\n",
        "\n",
        "# Connect to the SQLite3 database\n",
        "conn = sqlite3.connect('climate_data.db')\n",
        "\n",
        "# Query the data from the database\n",
        "query = \"SELECT * FROM climate_data\"\n",
        "df = pd.read_sql(query, conn)\n",
        "\n",
        "# Close the connection\n",
        "conn.close()\n",
        "\n",
        "# Display the first few rows of the dataframe\n",
        "print(df.head())\n"
      ],
      "metadata": {
        "colab": {
          "base_uri": "https://localhost:8080/"
        },
        "id": "FFq_fEB2wAWS",
        "outputId": "e28d9197-d598-4667-ead8-5f1d5b0a9af6"
      },
      "execution_count": null,
      "outputs": [
        {
          "output_type": "stream",
          "name": "stdout",
          "text": [
            "                  date datatype            station  value attributes\n",
            "0  2023-01-01T00:00:00     TMIN  GHCND:USW00094728    9.4   ,,W,2400\n",
            "1  2023-01-02T00:00:00     TMIN  GHCND:USW00094728    9.4   ,,W,2400\n",
            "2  2023-01-03T00:00:00     TMIN  GHCND:USW00094728    8.3   ,,W,2400\n",
            "3  2023-01-04T00:00:00     TMIN  GHCND:USW00094728    9.4   ,,W,2400\n",
            "4  2023-01-05T00:00:00     TMIN  GHCND:USW00094728    6.7   ,,W,2400\n"
          ]
        }
      ]
    },
    {
      "cell_type": "markdown",
      "source": [
        "This will load all the data from the climate_data table into a Pandas DataFrame."
      ],
      "metadata": {
        "id": "QgjlDfll0myx"
      }
    },
    {
      "cell_type": "markdown",
      "source": [
        "## Automated EDA using Pandas Profiling"
      ],
      "metadata": {
        "id": "ELj0U63B0sSF"
      }
    },
    {
      "cell_type": "markdown",
      "source": [
        "We will use pandas_profiling (or the newer ydata-profiling) for automated EDA. First, install the library if you haven't:"
      ],
      "metadata": {
        "id": "M1SWQmFH0uR8"
      }
    },
    {
      "cell_type": "code",
      "source": [
        "!pip install ydata-profiling"
      ],
      "metadata": {
        "id": "suMmaAv50s4a",
        "colab": {
          "base_uri": "https://localhost:8080/"
        },
        "outputId": "1d12bff1-7493-411f-da35-be15339c315a"
      },
      "execution_count": null,
      "outputs": [
        {
          "output_type": "stream",
          "name": "stdout",
          "text": [
            "Collecting ydata-profiling\n",
            "  Downloading ydata_profiling-4.11.0-py2.py3-none-any.whl.metadata (20 kB)\n",
            "Requirement already satisfied: scipy<1.14,>=1.4.1 in /usr/local/lib/python3.10/dist-packages (from ydata-profiling) (1.13.1)\n",
            "Requirement already satisfied: pandas!=1.4.0,<3,>1.1 in /usr/local/lib/python3.10/dist-packages (from ydata-profiling) (2.2.2)\n",
            "Requirement already satisfied: matplotlib<3.10,>=3.5 in /usr/local/lib/python3.10/dist-packages (from ydata-profiling) (3.7.1)\n",
            "Requirement already satisfied: pydantic>=2 in /usr/local/lib/python3.10/dist-packages (from ydata-profiling) (2.9.2)\n",
            "Requirement already satisfied: PyYAML<6.1,>=5.0.0 in /usr/local/lib/python3.10/dist-packages (from ydata-profiling) (6.0.2)\n",
            "Requirement already satisfied: jinja2<3.2,>=2.11.1 in /usr/local/lib/python3.10/dist-packages (from ydata-profiling) (3.1.4)\n",
            "Collecting visions<0.7.7,>=0.7.5 (from visions[type_image_path]<0.7.7,>=0.7.5->ydata-profiling)\n",
            "  Downloading visions-0.7.6-py3-none-any.whl.metadata (11 kB)\n",
            "Requirement already satisfied: numpy<2.2,>=1.16.0 in /usr/local/lib/python3.10/dist-packages (from ydata-profiling) (1.26.4)\n",
            "Collecting htmlmin==0.1.12 (from ydata-profiling)\n",
            "  Downloading htmlmin-0.1.12.tar.gz (19 kB)\n",
            "  Preparing metadata (setup.py) ... \u001b[?25l\u001b[?25hdone\n",
            "Collecting phik<0.13,>=0.11.1 (from ydata-profiling)\n",
            "  Downloading phik-0.12.4-cp310-cp310-manylinux_2_17_x86_64.manylinux2014_x86_64.whl.metadata (5.6 kB)\n",
            "Requirement already satisfied: requests<3,>=2.24.0 in /usr/local/lib/python3.10/dist-packages (from ydata-profiling) (2.32.3)\n",
            "Requirement already satisfied: tqdm<5,>=4.48.2 in /usr/local/lib/python3.10/dist-packages (from ydata-profiling) (4.66.5)\n",
            "Requirement already satisfied: seaborn<0.14,>=0.10.1 in /usr/local/lib/python3.10/dist-packages (from ydata-profiling) (0.13.2)\n",
            "Collecting multimethod<2,>=1.4 (from ydata-profiling)\n",
            "  Downloading multimethod-1.12-py3-none-any.whl.metadata (9.6 kB)\n",
            "Requirement already satisfied: statsmodels<1,>=0.13.2 in /usr/local/lib/python3.10/dist-packages (from ydata-profiling) (0.14.4)\n",
            "Requirement already satisfied: typeguard<5,>=3 in /usr/local/lib/python3.10/dist-packages (from ydata-profiling) (4.3.0)\n",
            "Collecting imagehash==4.3.1 (from ydata-profiling)\n",
            "  Downloading ImageHash-4.3.1-py2.py3-none-any.whl.metadata (8.0 kB)\n",
            "Requirement already satisfied: wordcloud>=1.9.3 in /usr/local/lib/python3.10/dist-packages (from ydata-profiling) (1.9.3)\n",
            "Collecting dacite>=1.8 (from ydata-profiling)\n",
            "  Downloading dacite-1.8.1-py3-none-any.whl.metadata (15 kB)\n",
            "Requirement already satisfied: numba<1,>=0.56.0 in /usr/local/lib/python3.10/dist-packages (from ydata-profiling) (0.60.0)\n",
            "Collecting PyWavelets (from imagehash==4.3.1->ydata-profiling)\n",
            "  Downloading pywavelets-1.7.0-cp310-cp310-manylinux_2_17_x86_64.manylinux2014_x86_64.whl.metadata (9.0 kB)\n",
            "Requirement already satisfied: pillow in /usr/local/lib/python3.10/dist-packages (from imagehash==4.3.1->ydata-profiling) (10.4.0)\n",
            "Requirement already satisfied: MarkupSafe>=2.0 in /usr/local/lib/python3.10/dist-packages (from jinja2<3.2,>=2.11.1->ydata-profiling) (3.0.2)\n",
            "Requirement already satisfied: contourpy>=1.0.1 in /usr/local/lib/python3.10/dist-packages (from matplotlib<3.10,>=3.5->ydata-profiling) (1.3.0)\n",
            "Requirement already satisfied: cycler>=0.10 in /usr/local/lib/python3.10/dist-packages (from matplotlib<3.10,>=3.5->ydata-profiling) (0.12.1)\n",
            "Requirement already satisfied: fonttools>=4.22.0 in /usr/local/lib/python3.10/dist-packages (from matplotlib<3.10,>=3.5->ydata-profiling) (4.54.1)\n",
            "Requirement already satisfied: kiwisolver>=1.0.1 in /usr/local/lib/python3.10/dist-packages (from matplotlib<3.10,>=3.5->ydata-profiling) (1.4.7)\n",
            "Requirement already satisfied: packaging>=20.0 in /usr/local/lib/python3.10/dist-packages (from matplotlib<3.10,>=3.5->ydata-profiling) (24.1)\n",
            "Requirement already satisfied: pyparsing>=2.3.1 in /usr/local/lib/python3.10/dist-packages (from matplotlib<3.10,>=3.5->ydata-profiling) (3.2.0)\n",
            "Requirement already satisfied: python-dateutil>=2.7 in /usr/local/lib/python3.10/dist-packages (from matplotlib<3.10,>=3.5->ydata-profiling) (2.8.2)\n",
            "Requirement already satisfied: llvmlite<0.44,>=0.43.0dev0 in /usr/local/lib/python3.10/dist-packages (from numba<1,>=0.56.0->ydata-profiling) (0.43.0)\n",
            "Requirement already satisfied: pytz>=2020.1 in /usr/local/lib/python3.10/dist-packages (from pandas!=1.4.0,<3,>1.1->ydata-profiling) (2024.2)\n",
            "Requirement already satisfied: tzdata>=2022.7 in /usr/local/lib/python3.10/dist-packages (from pandas!=1.4.0,<3,>1.1->ydata-profiling) (2024.2)\n",
            "Requirement already satisfied: joblib>=0.14.1 in /usr/local/lib/python3.10/dist-packages (from phik<0.13,>=0.11.1->ydata-profiling) (1.4.2)\n",
            "Requirement already satisfied: annotated-types>=0.6.0 in /usr/local/lib/python3.10/dist-packages (from pydantic>=2->ydata-profiling) (0.7.0)\n",
            "Requirement already satisfied: pydantic-core==2.23.4 in /usr/local/lib/python3.10/dist-packages (from pydantic>=2->ydata-profiling) (2.23.4)\n",
            "Requirement already satisfied: typing-extensions>=4.6.1 in /usr/local/lib/python3.10/dist-packages (from pydantic>=2->ydata-profiling) (4.12.2)\n",
            "Requirement already satisfied: charset-normalizer<4,>=2 in /usr/local/lib/python3.10/dist-packages (from requests<3,>=2.24.0->ydata-profiling) (3.4.0)\n",
            "Requirement already satisfied: idna<4,>=2.5 in /usr/local/lib/python3.10/dist-packages (from requests<3,>=2.24.0->ydata-profiling) (3.10)\n",
            "Requirement already satisfied: urllib3<3,>=1.21.1 in /usr/local/lib/python3.10/dist-packages (from requests<3,>=2.24.0->ydata-profiling) (2.2.3)\n",
            "Requirement already satisfied: certifi>=2017.4.17 in /usr/local/lib/python3.10/dist-packages (from requests<3,>=2.24.0->ydata-profiling) (2024.8.30)\n",
            "Requirement already satisfied: patsy>=0.5.6 in /usr/local/lib/python3.10/dist-packages (from statsmodels<1,>=0.13.2->ydata-profiling) (0.5.6)\n",
            "Requirement already satisfied: attrs>=19.3.0 in /usr/local/lib/python3.10/dist-packages (from visions<0.7.7,>=0.7.5->visions[type_image_path]<0.7.7,>=0.7.5->ydata-profiling) (24.2.0)\n",
            "Requirement already satisfied: networkx>=2.4 in /usr/local/lib/python3.10/dist-packages (from visions<0.7.7,>=0.7.5->visions[type_image_path]<0.7.7,>=0.7.5->ydata-profiling) (3.4.2)\n",
            "Requirement already satisfied: six in /usr/local/lib/python3.10/dist-packages (from patsy>=0.5.6->statsmodels<1,>=0.13.2->ydata-profiling) (1.16.0)\n",
            "Downloading ydata_profiling-4.11.0-py2.py3-none-any.whl (390 kB)\n",
            "\u001b[2K   \u001b[90m━━━━━━━━━━━━━━━━━━━━━━━━━━━━━━━━━━━━━━━━\u001b[0m \u001b[32m390.0/390.0 kB\u001b[0m \u001b[31m7.6 MB/s\u001b[0m eta \u001b[36m0:00:00\u001b[0m\n",
            "\u001b[?25hDownloading ImageHash-4.3.1-py2.py3-none-any.whl (296 kB)\n",
            "\u001b[2K   \u001b[90m━━━━━━━━━━━━━━━━━━━━━━━━━━━━━━━━━━━━━━━━\u001b[0m \u001b[32m296.5/296.5 kB\u001b[0m \u001b[31m20.2 MB/s\u001b[0m eta \u001b[36m0:00:00\u001b[0m\n",
            "\u001b[?25hDownloading dacite-1.8.1-py3-none-any.whl (14 kB)\n",
            "Downloading multimethod-1.12-py3-none-any.whl (10 kB)\n",
            "Downloading phik-0.12.4-cp310-cp310-manylinux_2_17_x86_64.manylinux2014_x86_64.whl (686 kB)\n",
            "\u001b[2K   \u001b[90m━━━━━━━━━━━━━━━━━━━━━━━━━━━━━━━━━━━━━━━━\u001b[0m \u001b[32m686.1/686.1 kB\u001b[0m \u001b[31m24.2 MB/s\u001b[0m eta \u001b[36m0:00:00\u001b[0m\n",
            "\u001b[?25hDownloading visions-0.7.6-py3-none-any.whl (104 kB)\n",
            "\u001b[2K   \u001b[90m━━━━━━━━━━━━━━━━━━━━━━━━━━━━━━━━━━━━━━━━\u001b[0m \u001b[32m104.8/104.8 kB\u001b[0m \u001b[31m8.6 MB/s\u001b[0m eta \u001b[36m0:00:00\u001b[0m\n",
            "\u001b[?25hDownloading pywavelets-1.7.0-cp310-cp310-manylinux_2_17_x86_64.manylinux2014_x86_64.whl (4.5 MB)\n",
            "\u001b[2K   \u001b[90m━━━━━━━━━━━━━━━━━━━━━━━━━━━━━━━━━━━━━━━━\u001b[0m \u001b[32m4.5/4.5 MB\u001b[0m \u001b[31m80.0 MB/s\u001b[0m eta \u001b[36m0:00:00\u001b[0m\n",
            "\u001b[?25hBuilding wheels for collected packages: htmlmin\n",
            "  Building wheel for htmlmin (setup.py) ... \u001b[?25l\u001b[?25hdone\n",
            "  Created wheel for htmlmin: filename=htmlmin-0.1.12-py3-none-any.whl size=27081 sha256=f62cea333f9a8c5688923dcf01899b92f42d73b6d19a541593769c90bcb1d095\n",
            "  Stored in directory: /root/.cache/pip/wheels/dd/91/29/a79cecb328d01739e64017b6fb9a1ab9d8cb1853098ec5966d\n",
            "Successfully built htmlmin\n",
            "Installing collected packages: htmlmin, PyWavelets, multimethod, dacite, imagehash, visions, phik, ydata-profiling\n",
            "Successfully installed PyWavelets-1.7.0 dacite-1.8.1 htmlmin-0.1.12 imagehash-4.3.1 multimethod-1.12 phik-0.12.4 visions-0.7.6 ydata-profiling-4.11.0\n"
          ]
        }
      ]
    },
    {
      "cell_type": "markdown",
      "source": [
        "Now let's generate an EDA report:"
      ],
      "metadata": {
        "id": "hNr2X1L70zMT"
      }
    },
    {
      "cell_type": "code",
      "source": [
        "from ydata_profiling import ProfileReport\n",
        "\n",
        "# Create a profiling report\n",
        "profile = ProfileReport(df, title=\"Climate Data Profiling Report\")\n",
        "\n",
        "# Export to an HTML file\n",
        "profile.to_file(\"climate_data_report.html\")"
      ],
      "metadata": {
        "colab": {
          "base_uri": "https://localhost:8080/",
          "height": 145,
          "referenced_widgets": [
            "3f02924dba6d44fcad78e351b1881129",
            "0ada614232c245bb801e6257748e48dd",
            "fb46cf5dbf0c4ee787956cacf000c6dc",
            "18325369f2a346a1931719589efd419c",
            "4677ca0e6f404c86abd4895607e62eaf",
            "3e7dbda3f0854e7c8a4c2e080de80fc3",
            "a87b0c1c25204f008a796c2bf4e80f22",
            "d53c9bc83cad4f03adda7bdee7e15d9f",
            "1d9694fe14a64e6482e0eff51a644f8d",
            "3b0a0e77f7624119a0d43de9610e8fe6",
            "6434da29797d4d279442d10b6807705d",
            "f6f5acb02050422a96c6b7b7e21d83c7",
            "9de9d134dff24f49a37818a02d23665d",
            "75a1f451416f4c99aef5ca2b5587636a",
            "3a2f8f9318684454a56158ddd2486c80",
            "eef7cba5277148bda077cf8559fe2288",
            "bd82c50d44d14eeb8a4f90c6fca3a180",
            "12371ea0d2754a8abee957297f920ef2",
            "573f2f02b61646d2b7d036c8657097df",
            "5e1e501d42734dd1a1e462cd9647c05d",
            "20e1677fe6724232a49f2ca5fa054486",
            "8fec430a12a642b1806f74e11f52df55",
            "94a70de990c3442ca6ad65e39bb2929e",
            "c0aee375d6d3463fbca63721f72ee6be",
            "a3cee1fb129c45f6846d87576343d187",
            "bc00f043118c4901b08d4552ba2fa8a8",
            "37b91909f44240d39c9c3e7f0427e0d9",
            "3326e89b1c6c4e7cbcfe0aec50334aa5",
            "73e46676168c42c69d05e4efc743e831",
            "4658f56f8fbc4711a6d9e1218a4fca71",
            "e05c793dc27848bd885efe19725cc2d6",
            "2e70d1b321424e62ae98cc69d4ef8527",
            "38a51ff6748340f7ae7054b22cb71e94",
            "ede1a2bb41c34aefadbcf391729536b1",
            "df94978d91144cb1a7d44027eb8389c7",
            "3bacb50683db49409baf9c38c96c5fe9",
            "feeffac985fa4c2390f0febcc97ea505",
            "924be2f866db419faef75c98e455c396",
            "4b069f7fd09441b6929eb951e0f002e5",
            "fed89a44177945e2997986fb1a8bcb08",
            "3509cbe3b3ee426b9d64e984cf3ef935",
            "8fb2749600fa410397b3483d39a44ebf",
            "748e3e01f6a04ddeb3367f15879124ea",
            "95590fa72ce64a8b9f0f52856570b6c5"
          ]
        },
        "id": "oLNb6bfP0md6",
        "outputId": "dd8293fe-1034-400d-f761-af1c8143287a"
      },
      "execution_count": null,
      "outputs": [
        {
          "output_type": "display_data",
          "data": {
            "text/plain": [
              "Summarize dataset:   0%|          | 0/5 [00:00<?, ?it/s]"
            ],
            "application/vnd.jupyter.widget-view+json": {
              "version_major": 2,
              "version_minor": 0,
              "model_id": "3f02924dba6d44fcad78e351b1881129"
            }
          },
          "metadata": {}
        },
        {
          "output_type": "display_data",
          "data": {
            "text/plain": [
              "Generate report structure:   0%|          | 0/1 [00:00<?, ?it/s]"
            ],
            "application/vnd.jupyter.widget-view+json": {
              "version_major": 2,
              "version_minor": 0,
              "model_id": "f6f5acb02050422a96c6b7b7e21d83c7"
            }
          },
          "metadata": {}
        },
        {
          "output_type": "display_data",
          "data": {
            "text/plain": [
              "Render HTML:   0%|          | 0/1 [00:00<?, ?it/s]"
            ],
            "application/vnd.jupyter.widget-view+json": {
              "version_major": 2,
              "version_minor": 0,
              "model_id": "94a70de990c3442ca6ad65e39bb2929e"
            }
          },
          "metadata": {}
        },
        {
          "output_type": "display_data",
          "data": {
            "text/plain": [
              "Export report to file:   0%|          | 0/1 [00:00<?, ?it/s]"
            ],
            "application/vnd.jupyter.widget-view+json": {
              "version_major": 2,
              "version_minor": 0,
              "model_id": "ede1a2bb41c34aefadbcf391729536b1"
            }
          },
          "metadata": {}
        }
      ]
    },
    {
      "cell_type": "markdown",
      "source": [
        "This will create an HTML report with various statistics, visualizations, and insights about the dataset, including correlations, missing values, distributions, etc."
      ],
      "metadata": {
        "id": "MEkTeqtf11T0"
      }
    },
    {
      "cell_type": "markdown",
      "source": [
        "## Automated EDA using Sweetviz"
      ],
      "metadata": {
        "id": "3vQ0N6ec127y"
      }
    },
    {
      "cell_type": "code",
      "source": [
        "!pip install sweetviz"
      ],
      "metadata": {
        "colab": {
          "base_uri": "https://localhost:8080/"
        },
        "id": "QoOQ_389000A",
        "outputId": "0b2b6fa7-04be-4068-96bf-3136f4b5ddb7"
      },
      "execution_count": null,
      "outputs": [
        {
          "output_type": "stream",
          "name": "stdout",
          "text": [
            "Collecting sweetviz\n",
            "  Downloading sweetviz-2.3.1-py3-none-any.whl.metadata (24 kB)\n",
            "Requirement already satisfied: pandas!=1.0.0,!=1.0.1,!=1.0.2,>=0.25.3 in /usr/local/lib/python3.10/dist-packages (from sweetviz) (2.2.2)\n",
            "Requirement already satisfied: numpy>=1.16.0 in /usr/local/lib/python3.10/dist-packages (from sweetviz) (1.26.4)\n",
            "Requirement already satisfied: matplotlib>=3.1.3 in /usr/local/lib/python3.10/dist-packages (from sweetviz) (3.7.1)\n",
            "Requirement already satisfied: tqdm>=4.43.0 in /usr/local/lib/python3.10/dist-packages (from sweetviz) (4.66.5)\n",
            "Requirement already satisfied: scipy>=1.3.2 in /usr/local/lib/python3.10/dist-packages (from sweetviz) (1.13.1)\n",
            "Requirement already satisfied: jinja2>=2.11.1 in /usr/local/lib/python3.10/dist-packages (from sweetviz) (3.1.4)\n",
            "Requirement already satisfied: importlib-resources>=1.2.0 in /usr/local/lib/python3.10/dist-packages (from sweetviz) (6.4.5)\n",
            "Requirement already satisfied: MarkupSafe>=2.0 in /usr/local/lib/python3.10/dist-packages (from jinja2>=2.11.1->sweetviz) (3.0.2)\n",
            "Requirement already satisfied: contourpy>=1.0.1 in /usr/local/lib/python3.10/dist-packages (from matplotlib>=3.1.3->sweetviz) (1.3.0)\n",
            "Requirement already satisfied: cycler>=0.10 in /usr/local/lib/python3.10/dist-packages (from matplotlib>=3.1.3->sweetviz) (0.12.1)\n",
            "Requirement already satisfied: fonttools>=4.22.0 in /usr/local/lib/python3.10/dist-packages (from matplotlib>=3.1.3->sweetviz) (4.54.1)\n",
            "Requirement already satisfied: kiwisolver>=1.0.1 in /usr/local/lib/python3.10/dist-packages (from matplotlib>=3.1.3->sweetviz) (1.4.7)\n",
            "Requirement already satisfied: packaging>=20.0 in /usr/local/lib/python3.10/dist-packages (from matplotlib>=3.1.3->sweetviz) (24.1)\n",
            "Requirement already satisfied: pillow>=6.2.0 in /usr/local/lib/python3.10/dist-packages (from matplotlib>=3.1.3->sweetviz) (10.4.0)\n",
            "Requirement already satisfied: pyparsing>=2.3.1 in /usr/local/lib/python3.10/dist-packages (from matplotlib>=3.1.3->sweetviz) (3.2.0)\n",
            "Requirement already satisfied: python-dateutil>=2.7 in /usr/local/lib/python3.10/dist-packages (from matplotlib>=3.1.3->sweetviz) (2.8.2)\n",
            "Requirement already satisfied: pytz>=2020.1 in /usr/local/lib/python3.10/dist-packages (from pandas!=1.0.0,!=1.0.1,!=1.0.2,>=0.25.3->sweetviz) (2024.2)\n",
            "Requirement already satisfied: tzdata>=2022.7 in /usr/local/lib/python3.10/dist-packages (from pandas!=1.0.0,!=1.0.1,!=1.0.2,>=0.25.3->sweetviz) (2024.2)\n",
            "Requirement already satisfied: six>=1.5 in /usr/local/lib/python3.10/dist-packages (from python-dateutil>=2.7->matplotlib>=3.1.3->sweetviz) (1.16.0)\n",
            "Downloading sweetviz-2.3.1-py3-none-any.whl (15.1 MB)\n",
            "\u001b[2K   \u001b[90m━━━━━━━━━━━━━━━━━━━━━━━━━━━━━━━━━━━━━━━━\u001b[0m \u001b[32m15.1/15.1 MB\u001b[0m \u001b[31m54.5 MB/s\u001b[0m eta \u001b[36m0:00:00\u001b[0m\n",
            "\u001b[?25hInstalling collected packages: sweetviz\n",
            "Successfully installed sweetviz-2.3.1\n"
          ]
        }
      ]
    },
    {
      "cell_type": "markdown",
      "source": [
        "This will be used in the next example."
      ],
      "metadata": {
        "id": "aAqDTCzV2fch"
      }
    },
    {
      "cell_type": "markdown",
      "source": [
        "# Activity 1: Banking Data"
      ],
      "metadata": {
        "id": "t3M3BsGo2hNR"
      }
    },
    {
      "cell_type": "code",
      "source": [
        "import pandas as pd\n",
        "\n",
        "df = pd.read_csv('/content/bank-full.csv', sep=';')\n",
        "df.head()"
      ],
      "metadata": {
        "colab": {
          "base_uri": "https://localhost:8080/",
          "height": 206
        },
        "id": "-tqWCWzo2o_H",
        "outputId": "1c8ff859-af8d-40c4-c841-a29f35a37061"
      },
      "execution_count": null,
      "outputs": [
        {
          "output_type": "execute_result",
          "data": {
            "text/plain": [
              "   age           job  marital  education default  balance housing loan  \\\n",
              "0   58    management  married   tertiary      no     2143     yes   no   \n",
              "1   44    technician   single  secondary      no       29     yes   no   \n",
              "2   33  entrepreneur  married  secondary      no        2     yes  yes   \n",
              "3   47   blue-collar  married    unknown      no     1506     yes   no   \n",
              "4   33       unknown   single    unknown      no        1      no   no   \n",
              "\n",
              "   contact  day month  duration  campaign  pdays  previous poutcome   y  \n",
              "0  unknown    5   may       261         1     -1         0  unknown  no  \n",
              "1  unknown    5   may       151         1     -1         0  unknown  no  \n",
              "2  unknown    5   may        76         1     -1         0  unknown  no  \n",
              "3  unknown    5   may        92         1     -1         0  unknown  no  \n",
              "4  unknown    5   may       198         1     -1         0  unknown  no  "
            ],
            "text/html": [
              "\n",
              "  <div id=\"df-6f6d2c09-13e3-40b0-9121-a508dcac7ac6\" class=\"colab-df-container\">\n",
              "    <div>\n",
              "<style scoped>\n",
              "    .dataframe tbody tr th:only-of-type {\n",
              "        vertical-align: middle;\n",
              "    }\n",
              "\n",
              "    .dataframe tbody tr th {\n",
              "        vertical-align: top;\n",
              "    }\n",
              "\n",
              "    .dataframe thead th {\n",
              "        text-align: right;\n",
              "    }\n",
              "</style>\n",
              "<table border=\"1\" class=\"dataframe\">\n",
              "  <thead>\n",
              "    <tr style=\"text-align: right;\">\n",
              "      <th></th>\n",
              "      <th>age</th>\n",
              "      <th>job</th>\n",
              "      <th>marital</th>\n",
              "      <th>education</th>\n",
              "      <th>default</th>\n",
              "      <th>balance</th>\n",
              "      <th>housing</th>\n",
              "      <th>loan</th>\n",
              "      <th>contact</th>\n",
              "      <th>day</th>\n",
              "      <th>month</th>\n",
              "      <th>duration</th>\n",
              "      <th>campaign</th>\n",
              "      <th>pdays</th>\n",
              "      <th>previous</th>\n",
              "      <th>poutcome</th>\n",
              "      <th>y</th>\n",
              "    </tr>\n",
              "  </thead>\n",
              "  <tbody>\n",
              "    <tr>\n",
              "      <th>0</th>\n",
              "      <td>58</td>\n",
              "      <td>management</td>\n",
              "      <td>married</td>\n",
              "      <td>tertiary</td>\n",
              "      <td>no</td>\n",
              "      <td>2143</td>\n",
              "      <td>yes</td>\n",
              "      <td>no</td>\n",
              "      <td>unknown</td>\n",
              "      <td>5</td>\n",
              "      <td>may</td>\n",
              "      <td>261</td>\n",
              "      <td>1</td>\n",
              "      <td>-1</td>\n",
              "      <td>0</td>\n",
              "      <td>unknown</td>\n",
              "      <td>no</td>\n",
              "    </tr>\n",
              "    <tr>\n",
              "      <th>1</th>\n",
              "      <td>44</td>\n",
              "      <td>technician</td>\n",
              "      <td>single</td>\n",
              "      <td>secondary</td>\n",
              "      <td>no</td>\n",
              "      <td>29</td>\n",
              "      <td>yes</td>\n",
              "      <td>no</td>\n",
              "      <td>unknown</td>\n",
              "      <td>5</td>\n",
              "      <td>may</td>\n",
              "      <td>151</td>\n",
              "      <td>1</td>\n",
              "      <td>-1</td>\n",
              "      <td>0</td>\n",
              "      <td>unknown</td>\n",
              "      <td>no</td>\n",
              "    </tr>\n",
              "    <tr>\n",
              "      <th>2</th>\n",
              "      <td>33</td>\n",
              "      <td>entrepreneur</td>\n",
              "      <td>married</td>\n",
              "      <td>secondary</td>\n",
              "      <td>no</td>\n",
              "      <td>2</td>\n",
              "      <td>yes</td>\n",
              "      <td>yes</td>\n",
              "      <td>unknown</td>\n",
              "      <td>5</td>\n",
              "      <td>may</td>\n",
              "      <td>76</td>\n",
              "      <td>1</td>\n",
              "      <td>-1</td>\n",
              "      <td>0</td>\n",
              "      <td>unknown</td>\n",
              "      <td>no</td>\n",
              "    </tr>\n",
              "    <tr>\n",
              "      <th>3</th>\n",
              "      <td>47</td>\n",
              "      <td>blue-collar</td>\n",
              "      <td>married</td>\n",
              "      <td>unknown</td>\n",
              "      <td>no</td>\n",
              "      <td>1506</td>\n",
              "      <td>yes</td>\n",
              "      <td>no</td>\n",
              "      <td>unknown</td>\n",
              "      <td>5</td>\n",
              "      <td>may</td>\n",
              "      <td>92</td>\n",
              "      <td>1</td>\n",
              "      <td>-1</td>\n",
              "      <td>0</td>\n",
              "      <td>unknown</td>\n",
              "      <td>no</td>\n",
              "    </tr>\n",
              "    <tr>\n",
              "      <th>4</th>\n",
              "      <td>33</td>\n",
              "      <td>unknown</td>\n",
              "      <td>single</td>\n",
              "      <td>unknown</td>\n",
              "      <td>no</td>\n",
              "      <td>1</td>\n",
              "      <td>no</td>\n",
              "      <td>no</td>\n",
              "      <td>unknown</td>\n",
              "      <td>5</td>\n",
              "      <td>may</td>\n",
              "      <td>198</td>\n",
              "      <td>1</td>\n",
              "      <td>-1</td>\n",
              "      <td>0</td>\n",
              "      <td>unknown</td>\n",
              "      <td>no</td>\n",
              "    </tr>\n",
              "  </tbody>\n",
              "</table>\n",
              "</div>\n",
              "    <div class=\"colab-df-buttons\">\n",
              "\n",
              "  <div class=\"colab-df-container\">\n",
              "    <button class=\"colab-df-convert\" onclick=\"convertToInteractive('df-6f6d2c09-13e3-40b0-9121-a508dcac7ac6')\"\n",
              "            title=\"Convert this dataframe to an interactive table.\"\n",
              "            style=\"display:none;\">\n",
              "\n",
              "  <svg xmlns=\"http://www.w3.org/2000/svg\" height=\"24px\" viewBox=\"0 -960 960 960\">\n",
              "    <path d=\"M120-120v-720h720v720H120Zm60-500h600v-160H180v160Zm220 220h160v-160H400v160Zm0 220h160v-160H400v160ZM180-400h160v-160H180v160Zm440 0h160v-160H620v160ZM180-180h160v-160H180v160Zm440 0h160v-160H620v160Z\"/>\n",
              "  </svg>\n",
              "    </button>\n",
              "\n",
              "  <style>\n",
              "    .colab-df-container {\n",
              "      display:flex;\n",
              "      gap: 12px;\n",
              "    }\n",
              "\n",
              "    .colab-df-convert {\n",
              "      background-color: #E8F0FE;\n",
              "      border: none;\n",
              "      border-radius: 50%;\n",
              "      cursor: pointer;\n",
              "      display: none;\n",
              "      fill: #1967D2;\n",
              "      height: 32px;\n",
              "      padding: 0 0 0 0;\n",
              "      width: 32px;\n",
              "    }\n",
              "\n",
              "    .colab-df-convert:hover {\n",
              "      background-color: #E2EBFA;\n",
              "      box-shadow: 0px 1px 2px rgba(60, 64, 67, 0.3), 0px 1px 3px 1px rgba(60, 64, 67, 0.15);\n",
              "      fill: #174EA6;\n",
              "    }\n",
              "\n",
              "    .colab-df-buttons div {\n",
              "      margin-bottom: 4px;\n",
              "    }\n",
              "\n",
              "    [theme=dark] .colab-df-convert {\n",
              "      background-color: #3B4455;\n",
              "      fill: #D2E3FC;\n",
              "    }\n",
              "\n",
              "    [theme=dark] .colab-df-convert:hover {\n",
              "      background-color: #434B5C;\n",
              "      box-shadow: 0px 1px 3px 1px rgba(0, 0, 0, 0.15);\n",
              "      filter: drop-shadow(0px 1px 2px rgba(0, 0, 0, 0.3));\n",
              "      fill: #FFFFFF;\n",
              "    }\n",
              "  </style>\n",
              "\n",
              "    <script>\n",
              "      const buttonEl =\n",
              "        document.querySelector('#df-6f6d2c09-13e3-40b0-9121-a508dcac7ac6 button.colab-df-convert');\n",
              "      buttonEl.style.display =\n",
              "        google.colab.kernel.accessAllowed ? 'block' : 'none';\n",
              "\n",
              "      async function convertToInteractive(key) {\n",
              "        const element = document.querySelector('#df-6f6d2c09-13e3-40b0-9121-a508dcac7ac6');\n",
              "        const dataTable =\n",
              "          await google.colab.kernel.invokeFunction('convertToInteractive',\n",
              "                                                    [key], {});\n",
              "        if (!dataTable) return;\n",
              "\n",
              "        const docLinkHtml = 'Like what you see? Visit the ' +\n",
              "          '<a target=\"_blank\" href=https://colab.research.google.com/notebooks/data_table.ipynb>data table notebook</a>'\n",
              "          + ' to learn more about interactive tables.';\n",
              "        element.innerHTML = '';\n",
              "        dataTable['output_type'] = 'display_data';\n",
              "        await google.colab.output.renderOutput(dataTable, element);\n",
              "        const docLink = document.createElement('div');\n",
              "        docLink.innerHTML = docLinkHtml;\n",
              "        element.appendChild(docLink);\n",
              "      }\n",
              "    </script>\n",
              "  </div>\n",
              "\n",
              "\n",
              "<div id=\"df-6bd03113-07af-4bee-92ca-97bc80e1324f\">\n",
              "  <button class=\"colab-df-quickchart\" onclick=\"quickchart('df-6bd03113-07af-4bee-92ca-97bc80e1324f')\"\n",
              "            title=\"Suggest charts\"\n",
              "            style=\"display:none;\">\n",
              "\n",
              "<svg xmlns=\"http://www.w3.org/2000/svg\" height=\"24px\"viewBox=\"0 0 24 24\"\n",
              "     width=\"24px\">\n",
              "    <g>\n",
              "        <path d=\"M19 3H5c-1.1 0-2 .9-2 2v14c0 1.1.9 2 2 2h14c1.1 0 2-.9 2-2V5c0-1.1-.9-2-2-2zM9 17H7v-7h2v7zm4 0h-2V7h2v10zm4 0h-2v-4h2v4z\"/>\n",
              "    </g>\n",
              "</svg>\n",
              "  </button>\n",
              "\n",
              "<style>\n",
              "  .colab-df-quickchart {\n",
              "      --bg-color: #E8F0FE;\n",
              "      --fill-color: #1967D2;\n",
              "      --hover-bg-color: #E2EBFA;\n",
              "      --hover-fill-color: #174EA6;\n",
              "      --disabled-fill-color: #AAA;\n",
              "      --disabled-bg-color: #DDD;\n",
              "  }\n",
              "\n",
              "  [theme=dark] .colab-df-quickchart {\n",
              "      --bg-color: #3B4455;\n",
              "      --fill-color: #D2E3FC;\n",
              "      --hover-bg-color: #434B5C;\n",
              "      --hover-fill-color: #FFFFFF;\n",
              "      --disabled-bg-color: #3B4455;\n",
              "      --disabled-fill-color: #666;\n",
              "  }\n",
              "\n",
              "  .colab-df-quickchart {\n",
              "    background-color: var(--bg-color);\n",
              "    border: none;\n",
              "    border-radius: 50%;\n",
              "    cursor: pointer;\n",
              "    display: none;\n",
              "    fill: var(--fill-color);\n",
              "    height: 32px;\n",
              "    padding: 0;\n",
              "    width: 32px;\n",
              "  }\n",
              "\n",
              "  .colab-df-quickchart:hover {\n",
              "    background-color: var(--hover-bg-color);\n",
              "    box-shadow: 0 1px 2px rgba(60, 64, 67, 0.3), 0 1px 3px 1px rgba(60, 64, 67, 0.15);\n",
              "    fill: var(--button-hover-fill-color);\n",
              "  }\n",
              "\n",
              "  .colab-df-quickchart-complete:disabled,\n",
              "  .colab-df-quickchart-complete:disabled:hover {\n",
              "    background-color: var(--disabled-bg-color);\n",
              "    fill: var(--disabled-fill-color);\n",
              "    box-shadow: none;\n",
              "  }\n",
              "\n",
              "  .colab-df-spinner {\n",
              "    border: 2px solid var(--fill-color);\n",
              "    border-color: transparent;\n",
              "    border-bottom-color: var(--fill-color);\n",
              "    animation:\n",
              "      spin 1s steps(1) infinite;\n",
              "  }\n",
              "\n",
              "  @keyframes spin {\n",
              "    0% {\n",
              "      border-color: transparent;\n",
              "      border-bottom-color: var(--fill-color);\n",
              "      border-left-color: var(--fill-color);\n",
              "    }\n",
              "    20% {\n",
              "      border-color: transparent;\n",
              "      border-left-color: var(--fill-color);\n",
              "      border-top-color: var(--fill-color);\n",
              "    }\n",
              "    30% {\n",
              "      border-color: transparent;\n",
              "      border-left-color: var(--fill-color);\n",
              "      border-top-color: var(--fill-color);\n",
              "      border-right-color: var(--fill-color);\n",
              "    }\n",
              "    40% {\n",
              "      border-color: transparent;\n",
              "      border-right-color: var(--fill-color);\n",
              "      border-top-color: var(--fill-color);\n",
              "    }\n",
              "    60% {\n",
              "      border-color: transparent;\n",
              "      border-right-color: var(--fill-color);\n",
              "    }\n",
              "    80% {\n",
              "      border-color: transparent;\n",
              "      border-right-color: var(--fill-color);\n",
              "      border-bottom-color: var(--fill-color);\n",
              "    }\n",
              "    90% {\n",
              "      border-color: transparent;\n",
              "      border-bottom-color: var(--fill-color);\n",
              "    }\n",
              "  }\n",
              "</style>\n",
              "\n",
              "  <script>\n",
              "    async function quickchart(key) {\n",
              "      const quickchartButtonEl =\n",
              "        document.querySelector('#' + key + ' button');\n",
              "      quickchartButtonEl.disabled = true;  // To prevent multiple clicks.\n",
              "      quickchartButtonEl.classList.add('colab-df-spinner');\n",
              "      try {\n",
              "        const charts = await google.colab.kernel.invokeFunction(\n",
              "            'suggestCharts', [key], {});\n",
              "      } catch (error) {\n",
              "        console.error('Error during call to suggestCharts:', error);\n",
              "      }\n",
              "      quickchartButtonEl.classList.remove('colab-df-spinner');\n",
              "      quickchartButtonEl.classList.add('colab-df-quickchart-complete');\n",
              "    }\n",
              "    (() => {\n",
              "      let quickchartButtonEl =\n",
              "        document.querySelector('#df-6bd03113-07af-4bee-92ca-97bc80e1324f button');\n",
              "      quickchartButtonEl.style.display =\n",
              "        google.colab.kernel.accessAllowed ? 'block' : 'none';\n",
              "    })();\n",
              "  </script>\n",
              "</div>\n",
              "\n",
              "    </div>\n",
              "  </div>\n"
            ],
            "application/vnd.google.colaboratory.intrinsic+json": {
              "type": "dataframe",
              "variable_name": "df",
              "summary": "{\n  \"name\": \"df\",\n  \"rows\": 45211,\n  \"fields\": [\n    {\n      \"column\": \"age\",\n      \"properties\": {\n        \"dtype\": \"number\",\n        \"std\": 10,\n        \"min\": 18,\n        \"max\": 95,\n        \"num_unique_values\": 77,\n        \"samples\": [\n          35,\n          34,\n          53\n        ],\n        \"semantic_type\": \"\",\n        \"description\": \"\"\n      }\n    },\n    {\n      \"column\": \"job\",\n      \"properties\": {\n        \"dtype\": \"category\",\n        \"num_unique_values\": 12,\n        \"samples\": [\n          \"housemaid\",\n          \"unemployed\",\n          \"management\"\n        ],\n        \"semantic_type\": \"\",\n        \"description\": \"\"\n      }\n    },\n    {\n      \"column\": \"marital\",\n      \"properties\": {\n        \"dtype\": \"category\",\n        \"num_unique_values\": 3,\n        \"samples\": [\n          \"married\",\n          \"single\",\n          \"divorced\"\n        ],\n        \"semantic_type\": \"\",\n        \"description\": \"\"\n      }\n    },\n    {\n      \"column\": \"education\",\n      \"properties\": {\n        \"dtype\": \"category\",\n        \"num_unique_values\": 4,\n        \"samples\": [\n          \"secondary\",\n          \"primary\",\n          \"tertiary\"\n        ],\n        \"semantic_type\": \"\",\n        \"description\": \"\"\n      }\n    },\n    {\n      \"column\": \"default\",\n      \"properties\": {\n        \"dtype\": \"category\",\n        \"num_unique_values\": 2,\n        \"samples\": [\n          \"yes\",\n          \"no\"\n        ],\n        \"semantic_type\": \"\",\n        \"description\": \"\"\n      }\n    },\n    {\n      \"column\": \"balance\",\n      \"properties\": {\n        \"dtype\": \"number\",\n        \"std\": 3044,\n        \"min\": -8019,\n        \"max\": 102127,\n        \"num_unique_values\": 7168,\n        \"samples\": [\n          3276,\n          43\n        ],\n        \"semantic_type\": \"\",\n        \"description\": \"\"\n      }\n    },\n    {\n      \"column\": \"housing\",\n      \"properties\": {\n        \"dtype\": \"category\",\n        \"num_unique_values\": 2,\n        \"samples\": [\n          \"no\",\n          \"yes\"\n        ],\n        \"semantic_type\": \"\",\n        \"description\": \"\"\n      }\n    },\n    {\n      \"column\": \"loan\",\n      \"properties\": {\n        \"dtype\": \"category\",\n        \"num_unique_values\": 2,\n        \"samples\": [\n          \"yes\",\n          \"no\"\n        ],\n        \"semantic_type\": \"\",\n        \"description\": \"\"\n      }\n    },\n    {\n      \"column\": \"contact\",\n      \"properties\": {\n        \"dtype\": \"category\",\n        \"num_unique_values\": 3,\n        \"samples\": [\n          \"unknown\",\n          \"cellular\"\n        ],\n        \"semantic_type\": \"\",\n        \"description\": \"\"\n      }\n    },\n    {\n      \"column\": \"day\",\n      \"properties\": {\n        \"dtype\": \"number\",\n        \"std\": 8,\n        \"min\": 1,\n        \"max\": 31,\n        \"num_unique_values\": 31,\n        \"samples\": [\n          1,\n          27\n        ],\n        \"semantic_type\": \"\",\n        \"description\": \"\"\n      }\n    },\n    {\n      \"column\": \"month\",\n      \"properties\": {\n        \"dtype\": \"category\",\n        \"num_unique_values\": 12,\n        \"samples\": [\n          \"apr\",\n          \"mar\"\n        ],\n        \"semantic_type\": \"\",\n        \"description\": \"\"\n      }\n    },\n    {\n      \"column\": \"duration\",\n      \"properties\": {\n        \"dtype\": \"number\",\n        \"std\": 257,\n        \"min\": 0,\n        \"max\": 4918,\n        \"num_unique_values\": 1573,\n        \"samples\": [\n          835,\n          1135\n        ],\n        \"semantic_type\": \"\",\n        \"description\": \"\"\n      }\n    },\n    {\n      \"column\": \"campaign\",\n      \"properties\": {\n        \"dtype\": \"number\",\n        \"std\": 3,\n        \"min\": 1,\n        \"max\": 63,\n        \"num_unique_values\": 48,\n        \"samples\": [\n          41,\n          27\n        ],\n        \"semantic_type\": \"\",\n        \"description\": \"\"\n      }\n    },\n    {\n      \"column\": \"pdays\",\n      \"properties\": {\n        \"dtype\": \"number\",\n        \"std\": 100,\n        \"min\": -1,\n        \"max\": 871,\n        \"num_unique_values\": 559,\n        \"samples\": [\n          249,\n          551\n        ],\n        \"semantic_type\": \"\",\n        \"description\": \"\"\n      }\n    },\n    {\n      \"column\": \"previous\",\n      \"properties\": {\n        \"dtype\": \"number\",\n        \"std\": 2,\n        \"min\": 0,\n        \"max\": 275,\n        \"num_unique_values\": 41,\n        \"samples\": [\n          17,\n          9\n        ],\n        \"semantic_type\": \"\",\n        \"description\": \"\"\n      }\n    },\n    {\n      \"column\": \"poutcome\",\n      \"properties\": {\n        \"dtype\": \"category\",\n        \"num_unique_values\": 4,\n        \"samples\": [\n          \"failure\",\n          \"success\"\n        ],\n        \"semantic_type\": \"\",\n        \"description\": \"\"\n      }\n    },\n    {\n      \"column\": \"y\",\n      \"properties\": {\n        \"dtype\": \"category\",\n        \"num_unique_values\": 2,\n        \"samples\": [\n          \"yes\",\n          \"no\"\n        ],\n        \"semantic_type\": \"\",\n        \"description\": \"\"\n      }\n    }\n  ]\n}"
            }
          },
          "metadata": {},
          "execution_count": 17
        }
      ]
    },
    {
      "cell_type": "code",
      "source": [
        "import sweetviz as sv\n",
        "\n",
        "# Generate a Sweetviz report\n",
        "report = sv.analyze(df)\n",
        "\n",
        "# Export to an HTML file\n",
        "report.show_html(\"banking_viz_report.html\")"
      ],
      "metadata": {
        "colab": {
          "base_uri": "https://localhost:8080/",
          "height": 66,
          "referenced_widgets": [
            "cf630beb7d414cadb83983c7f2c0a125",
            "fc1786c205c345dd8fe739538fe7136b",
            "7a09f2db414f4f889aa6461890b5d4d3",
            "b3589c7ddcba483d83ceaba41e05f496",
            "451635ec6bf045b7a0fff4d2d38324bd",
            "ae546d1414cb4e86b9ce18531277bc84",
            "8d76c059ca7f48e1a646d1f7c3d290fe",
            "0855a92280ac48b49b5311bc9f9e97e4",
            "e5776a0c454942e8834d485688d141f8",
            "ea62ed7d8b2744fba797b5e2811d26b2",
            "f63a1d8102ef49e890c17a0f635987fd"
          ]
        },
        "id": "mfvK8P192grg",
        "outputId": "a63cb970-2ac6-4eb3-cbd1-ffb45a102105"
      },
      "execution_count": null,
      "outputs": [
        {
          "output_type": "display_data",
          "data": {
            "text/plain": [
              "                                             |          | [  0%]   00:00 -> (? left)"
            ],
            "application/vnd.jupyter.widget-view+json": {
              "version_major": 2,
              "version_minor": 0,
              "model_id": "cf630beb7d414cadb83983c7f2c0a125"
            }
          },
          "metadata": {}
        },
        {
          "output_type": "stream",
          "name": "stdout",
          "text": [
            "Report banking_viz_report.html was generated! NOTEBOOK/COLAB USERS: the web browser MAY not pop up, regardless, the report IS saved in your notebook/colab files.\n"
          ]
        }
      ]
    },
    {
      "cell_type": "markdown",
      "source": [
        "Your turn, use pandas profiling to generate visualizations for this data."
      ],
      "metadata": {
        "id": "_sv5E24k3Gxc"
      }
    },
    {
      "cell_type": "code",
      "source": [
        "# Your code here"
      ],
      "metadata": {
        "id": "GW-VAN2_20Nl"
      },
      "execution_count": null,
      "outputs": []
    },
    {
      "cell_type": "markdown",
      "source": [
        "## Activity 2: Beer Sales Data"
      ],
      "metadata": {
        "id": "tf_2ymEK34_R"
      }
    },
    {
      "cell_type": "code",
      "source": [
        "# Use panda profiling"
      ],
      "metadata": {
        "id": "t6f6h3oO37EC"
      },
      "execution_count": null,
      "outputs": []
    },
    {
      "cell_type": "code",
      "source": [
        "# Use sweetviz"
      ],
      "metadata": {
        "id": "SFufS7RB4EFf"
      },
      "execution_count": null,
      "outputs": []
    },
    {
      "cell_type": "markdown",
      "source": [
        "Write your comparison of the outputs here."
      ],
      "metadata": {
        "id": "bnwPbj3E4FJa"
      }
    },
    {
      "cell_type": "markdown",
      "source": [
        "Write your recommendations here."
      ],
      "metadata": {
        "id": "MYb9923v4GxH"
      }
    },
    {
      "cell_type": "code",
      "source": [],
      "metadata": {
        "id": "zY-1E2Rn4H9I"
      },
      "execution_count": null,
      "outputs": []
    }
  ]
}